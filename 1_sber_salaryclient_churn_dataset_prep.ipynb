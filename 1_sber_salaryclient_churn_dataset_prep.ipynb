{
 "cells": [
  {
   "cell_type": "markdown",
   "id": "33d88a6e-6c12-4198-9620-100b34880bad",
   "metadata": {},
   "source": [
    "## Mini-description & imports\n",
    "\n",
    "Далее представлен код для обработки трейн и тест датасета\n",
    "\n",
    "(взаимодействие с data_test добавлено для репликации важных изменений трейна: удаление тех же самых колонок, заполнение nan и clip)"
   ]
  },
  {
   "cell_type": "code",
   "execution_count": 1,
   "id": "87d8f908",
   "metadata": {},
   "outputs": [],
   "source": [
    "import numpy as np\n",
    "import pandas as pd\n",
    "import polars as pl\n",
    "import polars.selectors as cs\n",
    "\n",
    "from tqdm import tqdm"
   ]
  },
  {
   "cell_type": "markdown",
   "id": "9f5d59ad",
   "metadata": {},
   "source": [
    "## 0. Dataset load"
   ]
  },
  {
   "cell_type": "code",
   "execution_count": 2,
   "id": "e8584b2d-8582-4f59-9409-75260b70363a",
   "metadata": {},
   "outputs": [],
   "source": [
    "DATA_PATH = 'data/'"
   ]
  },
  {
   "cell_type": "code",
   "execution_count": 3,
   "id": "59013c1c",
   "metadata": {},
   "outputs": [],
   "source": [
    "data = pl.read_parquet(DATA_PATH + 'train_ai_comp_final_dp.parquet')\n",
    "data_test = pl.read_parquet(DATA_PATH + 'test_sber.parquet')"
   ]
  },
  {
   "cell_type": "code",
   "execution_count": 4,
   "id": "7c9f9452",
   "metadata": {},
   "outputs": [
    {
     "name": "stdout",
     "output_type": "stream",
     "text": [
      "Data shape and size: (519615, 1080) 4.181\n",
      "Target info: shape: (2, 2)\n",
      "┌────────┬────────┐\n",
      "│ target ┆ count  │\n",
      "│ ---    ┆ ---    │\n",
      "│ i64    ┆ u32    │\n",
      "╞════════╪════════╡\n",
      "│ 1      ┆ 18537  │\n",
      "│ 0      ┆ 501078 │\n",
      "└────────┴────────┘\n"
     ]
    },
    {
     "data": {
      "text/html": [
       "<div><style>\n",
       ".dataframe > thead > tr,\n",
       ".dataframe > tbody > tr {\n",
       "  text-align: right;\n",
       "  white-space: pre-wrap;\n",
       "}\n",
       "</style>\n",
       "<small>shape: (5, 1_080)</small><table border=\"1\" class=\"dataframe\"><thead><tr><th>id</th><th>target</th><th>sample_ml_new</th><th>feature1</th><th>feature2</th><th>feature3</th><th>feature4</th><th>feature5</th><th>feature6</th><th>feature7</th><th>feature8</th><th>feature9</th><th>feature10</th><th>feature11</th><th>feature12</th><th>feature13</th><th>feature14</th><th>feature15</th><th>feature16</th><th>feature17</th><th>feature18</th><th>feature19</th><th>feature20</th><th>feature21</th><th>feature22</th><th>feature23</th><th>feature24</th><th>feature25</th><th>feature26</th><th>feature27</th><th>feature28</th><th>feature29</th><th>feature30</th><th>feature31</th><th>feature32</th><th>feature33</th><th>feature34</th><th>&hellip;</th><th>feature1041</th><th>feature1042</th><th>feature1043</th><th>feature1044</th><th>feature1045</th><th>feature1046</th><th>feature1047</th><th>feature1048</th><th>feature1049</th><th>feature1050</th><th>feature1051</th><th>feature1052</th><th>feature1053</th><th>feature1054</th><th>feature1055</th><th>feature1056</th><th>feature1057</th><th>feature1058</th><th>feature1059</th><th>feature1060</th><th>feature1061</th><th>feature1062</th><th>feature1063</th><th>feature1064</th><th>feature1065</th><th>feature1066</th><th>feature1067</th><th>feature1068</th><th>feature1069</th><th>feature1070</th><th>feature1071</th><th>feature1072</th><th>feature1073</th><th>feature1074</th><th>feature1075</th><th>feature1076</th><th>__index_level_0__</th></tr><tr><td>i64</td><td>i64</td><td>i64</td><td>i64</td><td>i64</td><td>i64</td><td>i64</td><td>i64</td><td>i64</td><td>i64</td><td>i64</td><td>i64</td><td>i64</td><td>i64</td><td>i64</td><td>i64</td><td>i64</td><td>i64</td><td>i64</td><td>i64</td><td>i64</td><td>i64</td><td>i64</td><td>i64</td><td>i64</td><td>i64</td><td>i64</td><td>i64</td><td>i64</td><td>i64</td><td>i64</td><td>i64</td><td>i64</td><td>i64</td><td>i64</td><td>i64</td><td>i64</td><td>&hellip;</td><td>i64</td><td>i64</td><td>i64</td><td>i64</td><td>i64</td><td>i64</td><td>i64</td><td>i64</td><td>i64</td><td>i64</td><td>i64</td><td>i64</td><td>i64</td><td>i64</td><td>i64</td><td>i64</td><td>i64</td><td>i64</td><td>i64</td><td>i64</td><td>i64</td><td>i64</td><td>i64</td><td>i64</td><td>i64</td><td>i64</td><td>i64</td><td>i64</td><td>i64</td><td>i64</td><td>i64</td><td>i64</td><td>i64</td><td>i64</td><td>i64</td><td>i64</td><td>i64</td></tr></thead><tbody><tr><td>0</td><td>0</td><td>1</td><td>1761</td><td>1759</td><td>85</td><td>105469</td><td>191</td><td>46</td><td>0</td><td>6</td><td>95</td><td>0</td><td>0</td><td>20</td><td>191</td><td>1</td><td>6</td><td>50</td><td>60</td><td>7</td><td>248</td><td>248</td><td>347</td><td>91601</td><td>9</td><td>173</td><td>1722</td><td>5</td><td>8</td><td>9</td><td>174</td><td>1738</td><td>633</td><td>1545</td><td>50524</td><td>51771</td><td>&hellip;</td><td>0</td><td>0</td><td>0</td><td>0</td><td>0</td><td>0</td><td>0</td><td>0</td><td>0</td><td>0</td><td>0</td><td>0</td><td>0</td><td>0</td><td>0</td><td>0</td><td>0</td><td>0</td><td>0</td><td>0</td><td>0</td><td>0</td><td>12045</td><td>12107</td><td>12510</td><td>21126</td><td>28913</td><td>48985</td><td>84264</td><td>12045</td><td>12107</td><td>12510</td><td>21126</td><td>28913</td><td>48985</td><td>84264</td><td>0</td></tr><tr><td>1</td><td>0</td><td>1</td><td>1761</td><td>1759</td><td>120</td><td>105610</td><td>144</td><td>71</td><td>0</td><td>135</td><td>135</td><td>0</td><td>0</td><td>187</td><td>144</td><td>1</td><td>135</td><td>43</td><td>101</td><td>11</td><td>18</td><td>18</td><td>58</td><td>36890</td><td>9</td><td>184</td><td>1722</td><td>5</td><td>8</td><td>9</td><td>185</td><td>1738</td><td>633</td><td>1637</td><td>50524</td><td>51771</td><td>&hellip;</td><td>0</td><td>0</td><td>0</td><td>0</td><td>0</td><td>0</td><td>0</td><td>0</td><td>0</td><td>0</td><td>0</td><td>0</td><td>0</td><td>0</td><td>0</td><td>0</td><td>0</td><td>0</td><td>0</td><td>0</td><td>0</td><td>0</td><td>0</td><td>0</td><td>0</td><td>0</td><td>0</td><td>0</td><td>0</td><td>0</td><td>0</td><td>0</td><td>0</td><td>0</td><td>0</td><td>0</td><td>1</td></tr><tr><td>2</td><td>0</td><td>1</td><td>890</td><td>1759</td><td>141</td><td>105227</td><td>191</td><td>11</td><td>0</td><td>0</td><td>0</td><td>0</td><td>0</td><td>187</td><td>191</td><td>1</td><td>0</td><td>0</td><td>0</td><td>28</td><td>248</td><td>248</td><td>347</td><td>140184</td><td>9</td><td>248</td><td>1722</td><td>5</td><td>8</td><td>9</td><td>250</td><td>1738</td><td>633</td><td>1756</td><td>50524</td><td>51771</td><td>&hellip;</td><td>0</td><td>0</td><td>0</td><td>0</td><td>0</td><td>0</td><td>0</td><td>0</td><td>0</td><td>0</td><td>0</td><td>0</td><td>0</td><td>0</td><td>0</td><td>0</td><td>0</td><td>0</td><td>0</td><td>0</td><td>0</td><td>0</td><td>33735</td><td>31242</td><td>12691</td><td>48682</td><td>55949</td><td>70006</td><td>113317</td><td>33735</td><td>31242</td><td>12691</td><td>48682</td><td>55949</td><td>70006</td><td>113317</td><td>2</td></tr><tr><td>5</td><td>0</td><td>1</td><td>1599</td><td>966</td><td>30</td><td>102441</td><td>191</td><td>8</td><td>0</td><td>0</td><td>0</td><td>0</td><td>0</td><td>187</td><td>191</td><td>1</td><td>0</td><td>0</td><td>0</td><td>28</td><td>248</td><td>248</td><td>347</td><td>140184</td><td>9</td><td>248</td><td>1722</td><td>5</td><td>8</td><td>9</td><td>250</td><td>1738</td><td>633</td><td>1756</td><td>50524</td><td>51771</td><td>&hellip;</td><td>12291</td><td>101</td><td>0</td><td>0</td><td>114</td><td>118</td><td>118</td><td>118</td><td>0</td><td>0</td><td>0</td><td>0</td><td>0</td><td>0</td><td>0</td><td>5220</td><td>0</td><td>0</td><td>5810</td><td>5890</td><td>5890</td><td>5890</td><td>0</td><td>0</td><td>0</td><td>0</td><td>0</td><td>6872</td><td>8530</td><td>0</td><td>0</td><td>0</td><td>0</td><td>0</td><td>6872</td><td>8530</td><td>5</td></tr><tr><td>6</td><td>0</td><td>1</td><td>1761</td><td>1759</td><td>85</td><td>104006</td><td>191</td><td>2</td><td>0</td><td>0</td><td>46</td><td>0</td><td>0</td><td>2</td><td>191</td><td>1</td><td>0</td><td>1</td><td>21</td><td>3</td><td>248</td><td>248</td><td>347</td><td>140184</td><td>9</td><td>248</td><td>1722</td><td>5</td><td>8</td><td>9</td><td>250</td><td>1738</td><td>633</td><td>1756</td><td>16988</td><td>51771</td><td>&hellip;</td><td>26759</td><td>0</td><td>0</td><td>0</td><td>0</td><td>0</td><td>0</td><td>0</td><td>0</td><td>0</td><td>0</td><td>0</td><td>0</td><td>0</td><td>0</td><td>0</td><td>0</td><td>0</td><td>0</td><td>0</td><td>0</td><td>0</td><td>0</td><td>0</td><td>0</td><td>0</td><td>0</td><td>0</td><td>7642</td><td>0</td><td>0</td><td>0</td><td>0</td><td>0</td><td>0</td><td>7642</td><td>6</td></tr></tbody></table></div>"
      ],
      "text/plain": [
       "shape: (5, 1_080)\n",
       "┌─────┬────────┬─────────────┬──────────┬───┬─────────────┬─────────────┬─────────────┬────────────┐\n",
       "│ id  ┆ target ┆ sample_ml_n ┆ feature1 ┆ … ┆ feature1074 ┆ feature1075 ┆ feature1076 ┆ __index_le │\n",
       "│ --- ┆ ---    ┆ ew          ┆ ---      ┆   ┆ ---         ┆ ---         ┆ ---         ┆ vel_0__    │\n",
       "│ i64 ┆ i64    ┆ ---         ┆ i64      ┆   ┆ i64         ┆ i64         ┆ i64         ┆ ---        │\n",
       "│     ┆        ┆ i64         ┆          ┆   ┆             ┆             ┆             ┆ i64        │\n",
       "╞═════╪════════╪═════════════╪══════════╪═══╪═════════════╪═════════════╪═════════════╪════════════╡\n",
       "│ 0   ┆ 0      ┆ 1           ┆ 1761     ┆ … ┆ 28913       ┆ 48985       ┆ 84264       ┆ 0          │\n",
       "│ 1   ┆ 0      ┆ 1           ┆ 1761     ┆ … ┆ 0           ┆ 0           ┆ 0           ┆ 1          │\n",
       "│ 2   ┆ 0      ┆ 1           ┆ 890      ┆ … ┆ 55949       ┆ 70006       ┆ 113317      ┆ 2          │\n",
       "│ 5   ┆ 0      ┆ 1           ┆ 1599     ┆ … ┆ 0           ┆ 6872        ┆ 8530        ┆ 5          │\n",
       "│ 6   ┆ 0      ┆ 1           ┆ 1761     ┆ … ┆ 0           ┆ 0           ┆ 7642        ┆ 6          │\n",
       "└─────┴────────┴─────────────┴──────────┴───┴─────────────┴─────────────┴─────────────┴────────────┘"
      ]
     },
     "execution_count": 4,
     "metadata": {},
     "output_type": "execute_result"
    }
   ],
   "source": [
    "print('Data shape and size:', data.shape, round(data.estimated_size('gb'), 3))\n",
    "print('Target info:', pl.Series(data.select(pl.col('target'))).value_counts())\n",
    "data.head()"
   ]
  },
  {
   "cell_type": "code",
   "execution_count": 5,
   "id": "1aa3083c",
   "metadata": {
    "scrolled": true
   },
   "outputs": [
    {
     "data": {
      "text/html": [
       "<div><style>\n",
       ".dataframe > thead > tr,\n",
       ".dataframe > tbody > tr {\n",
       "  text-align: right;\n",
       "  white-space: pre-wrap;\n",
       "}\n",
       "</style>\n",
       "<small>shape: (9, 1_081)</small><table border=\"1\" class=\"dataframe\"><thead><tr><th>statistic</th><th>id</th><th>target</th><th>sample_ml_new</th><th>feature1</th><th>feature2</th><th>feature3</th><th>feature4</th><th>feature5</th><th>feature6</th><th>feature7</th><th>feature8</th><th>feature9</th><th>feature10</th><th>feature11</th><th>feature12</th><th>feature13</th><th>feature14</th><th>feature15</th><th>feature16</th><th>feature17</th><th>feature18</th><th>feature19</th><th>feature20</th><th>feature21</th><th>feature22</th><th>feature23</th><th>feature24</th><th>feature25</th><th>feature26</th><th>feature27</th><th>feature28</th><th>feature29</th><th>feature30</th><th>feature31</th><th>feature32</th><th>feature33</th><th>&hellip;</th><th>feature1041</th><th>feature1042</th><th>feature1043</th><th>feature1044</th><th>feature1045</th><th>feature1046</th><th>feature1047</th><th>feature1048</th><th>feature1049</th><th>feature1050</th><th>feature1051</th><th>feature1052</th><th>feature1053</th><th>feature1054</th><th>feature1055</th><th>feature1056</th><th>feature1057</th><th>feature1058</th><th>feature1059</th><th>feature1060</th><th>feature1061</th><th>feature1062</th><th>feature1063</th><th>feature1064</th><th>feature1065</th><th>feature1066</th><th>feature1067</th><th>feature1068</th><th>feature1069</th><th>feature1070</th><th>feature1071</th><th>feature1072</th><th>feature1073</th><th>feature1074</th><th>feature1075</th><th>feature1076</th><th>__index_level_0__</th></tr><tr><td>str</td><td>f64</td><td>f64</td><td>f64</td><td>f64</td><td>f64</td><td>f64</td><td>f64</td><td>f64</td><td>f64</td><td>f64</td><td>f64</td><td>f64</td><td>f64</td><td>f64</td><td>f64</td><td>f64</td><td>f64</td><td>f64</td><td>f64</td><td>f64</td><td>f64</td><td>f64</td><td>f64</td><td>f64</td><td>f64</td><td>f64</td><td>f64</td><td>f64</td><td>f64</td><td>f64</td><td>f64</td><td>f64</td><td>f64</td><td>f64</td><td>f64</td><td>f64</td><td>&hellip;</td><td>f64</td><td>f64</td><td>f64</td><td>f64</td><td>f64</td><td>f64</td><td>f64</td><td>f64</td><td>f64</td><td>f64</td><td>f64</td><td>f64</td><td>f64</td><td>f64</td><td>f64</td><td>f64</td><td>f64</td><td>f64</td><td>f64</td><td>f64</td><td>f64</td><td>f64</td><td>f64</td><td>f64</td><td>f64</td><td>f64</td><td>f64</td><td>f64</td><td>f64</td><td>f64</td><td>f64</td><td>f64</td><td>f64</td><td>f64</td><td>f64</td><td>f64</td><td>f64</td></tr></thead><tbody><tr><td>&quot;count&quot;</td><td>519615.0</td><td>519615.0</td><td>519615.0</td><td>519615.0</td><td>519615.0</td><td>519615.0</td><td>519615.0</td><td>519615.0</td><td>519615.0</td><td>519615.0</td><td>519615.0</td><td>519615.0</td><td>519615.0</td><td>519615.0</td><td>519615.0</td><td>519615.0</td><td>519615.0</td><td>519615.0</td><td>519615.0</td><td>519615.0</td><td>519615.0</td><td>519615.0</td><td>519615.0</td><td>519615.0</td><td>519615.0</td><td>519615.0</td><td>519615.0</td><td>519615.0</td><td>519615.0</td><td>519615.0</td><td>519615.0</td><td>519615.0</td><td>519615.0</td><td>519615.0</td><td>519615.0</td><td>519615.0</td><td>&hellip;</td><td>519615.0</td><td>519615.0</td><td>519615.0</td><td>519615.0</td><td>519615.0</td><td>519615.0</td><td>519615.0</td><td>519615.0</td><td>519615.0</td><td>519615.0</td><td>519615.0</td><td>519615.0</td><td>519615.0</td><td>519615.0</td><td>519615.0</td><td>519615.0</td><td>519615.0</td><td>519615.0</td><td>519615.0</td><td>519615.0</td><td>519615.0</td><td>519615.0</td><td>519615.0</td><td>519615.0</td><td>519615.0</td><td>519615.0</td><td>519615.0</td><td>519615.0</td><td>519615.0</td><td>519615.0</td><td>519615.0</td><td>519615.0</td><td>519615.0</td><td>519615.0</td><td>519615.0</td><td>519615.0</td><td>519615.0</td></tr><tr><td>&quot;null_count&quot;</td><td>0.0</td><td>0.0</td><td>0.0</td><td>0.0</td><td>0.0</td><td>0.0</td><td>0.0</td><td>0.0</td><td>0.0</td><td>0.0</td><td>0.0</td><td>0.0</td><td>0.0</td><td>0.0</td><td>0.0</td><td>0.0</td><td>0.0</td><td>0.0</td><td>0.0</td><td>0.0</td><td>0.0</td><td>0.0</td><td>0.0</td><td>0.0</td><td>0.0</td><td>0.0</td><td>0.0</td><td>0.0</td><td>0.0</td><td>0.0</td><td>0.0</td><td>0.0</td><td>0.0</td><td>0.0</td><td>0.0</td><td>0.0</td><td>&hellip;</td><td>0.0</td><td>0.0</td><td>0.0</td><td>0.0</td><td>0.0</td><td>0.0</td><td>0.0</td><td>0.0</td><td>0.0</td><td>0.0</td><td>0.0</td><td>0.0</td><td>0.0</td><td>0.0</td><td>0.0</td><td>0.0</td><td>0.0</td><td>0.0</td><td>0.0</td><td>0.0</td><td>0.0</td><td>0.0</td><td>0.0</td><td>0.0</td><td>0.0</td><td>0.0</td><td>0.0</td><td>0.0</td><td>0.0</td><td>0.0</td><td>0.0</td><td>0.0</td><td>0.0</td><td>0.0</td><td>0.0</td><td>0.0</td><td>0.0</td></tr><tr><td>&quot;mean&quot;</td><td>346719.616297</td><td>0.035674</td><td>1.0</td><td>1578.921015</td><td>1308.410059</td><td>76.30513</td><td>94386.514377</td><td>139.003685</td><td>41.42441</td><td>35.771227</td><td>94.050995</td><td>128.132198</td><td>50.524941</td><td>34.616953</td><td>118.291031</td><td>139.003685</td><td>68.484441</td><td>90.192433</td><td>83.639375</td><td>97.720279</td><td>15.90992</td><td>206.532127</td><td>206.545823</td><td>292.067833</td><td>102614.761406</td><td>8.999925</td><td>236.897284</td><td>1452.476484</td><td>4.999983</td><td>7.999942</td><td>8.999925</td><td>238.780245</td><td>1493.328499</td><td>625.663661</td><td>1673.258387</td><td>44766.006035</td><td>&hellip;</td><td>7934.009726</td><td>355.511271</td><td>106.313561</td><td>3.566054</td><td>498.005425</td><td>512.175759</td><td>512.175759</td><td>512.175759</td><td>4.143275</td><td>4.417738</td><td>5.281166</td><td>8.03104</td><td>11.93501</td><td>23.242918</td><td>50.353991</td><td>1605.583218</td><td>568.333647</td><td>9.22457</td><td>2506.899375</td><td>2611.354318</td><td>2611.354318</td><td>2611.354318</td><td>2915.599988</td><td>3018.929802</td><td>3278.940904</td><td>5142.696679</td><td>7200.840365</td><td>13172.209817</td><td>26496.441469</td><td>2915.599988</td><td>3018.929802</td><td>3278.940904</td><td>5142.696679</td><td>7200.840365</td><td>13172.209817</td><td>26496.441469</td><td>346719.616297</td></tr><tr><td>&quot;std&quot;</td><td>200003.314087</td><td>0.185477</td><td>0.0</td><td>315.711163</td><td>660.446967</td><td>44.797241</td><td>22230.941664</td><td>74.734122</td><td>40.463193</td><td>56.144121</td><td>127.158066</td><td>119.933782</td><td>79.073395</td><td>54.347273</td><td>74.379883</td><td>74.734122</td><td>100.57392</td><td>123.750381</td><td>104.047542</td><td>116.998952</td><td>11.127697</td><td>75.265778</td><td>75.248052</td><td>101.946755</td><td>55807.968223</td><td>0.021446</td><td>34.019064</td><td>497.221173</td><td>0.007471</td><td>0.017438</td><td>0.021446</td><td>34.354549</td><td>477.478098</td><td>52.234518</td><td>286.164678</td><td>13156.304575</td><td>&hellip;</td><td>16928.752328</td><td>1645.63603</td><td>737.588696</td><td>117.891838</td><td>2208.292846</td><td>2283.61306</td><td>2283.61306</td><td>2283.61306</td><td>65.743359</td><td>68.994673</td><td>78.002152</td><td>112.043753</td><td>154.874119</td><td>258.699146</td><td>463.693224</td><td>4921.862946</td><td>2538.759632</td><td>304.95938</td><td>7129.596669</td><td>7504.652593</td><td>7504.652593</td><td>7504.652593</td><td>8948.724876</td><td>9129.809167</td><td>9669.071467</td><td>13822.903288</td><td>17892.604226</td><td>27943.888849</td><td>45663.346437</td><td>8948.724876</td><td>9129.809167</td><td>9669.071467</td><td>13822.903288</td><td>17892.604226</td><td>27943.888849</td><td>45663.346437</td><td>200003.314087</td></tr><tr><td>&quot;min&quot;</td><td>0.0</td><td>0.0</td><td>1.0</td><td>0.0</td><td>0.0</td><td>0.0</td><td>0.0</td><td>0.0</td><td>0.0</td><td>0.0</td><td>0.0</td><td>0.0</td><td>0.0</td><td>0.0</td><td>0.0</td><td>0.0</td><td>0.0</td><td>0.0</td><td>0.0</td><td>0.0</td><td>0.0</td><td>0.0</td><td>0.0</td><td>0.0</td><td>0.0</td><td>0.0</td><td>0.0</td><td>0.0</td><td>1.0</td><td>0.0</td><td>0.0</td><td>0.0</td><td>0.0</td><td>0.0</td><td>1.0</td><td>0.0</td><td>&hellip;</td><td>0.0</td><td>0.0</td><td>0.0</td><td>0.0</td><td>0.0</td><td>0.0</td><td>0.0</td><td>0.0</td><td>0.0</td><td>0.0</td><td>0.0</td><td>0.0</td><td>0.0</td><td>0.0</td><td>0.0</td><td>0.0</td><td>0.0</td><td>0.0</td><td>0.0</td><td>0.0</td><td>0.0</td><td>0.0</td><td>0.0</td><td>0.0</td><td>0.0</td><td>0.0</td><td>0.0</td><td>0.0</td><td>0.0</td><td>0.0</td><td>0.0</td><td>0.0</td><td>0.0</td><td>0.0</td><td>0.0</td><td>0.0</td><td>0.0</td></tr><tr><td>&quot;25%&quot;</td><td>173595.0</td><td>0.0</td><td>1.0</td><td>1600.0</td><td>769.0</td><td>37.0</td><td>97557.0</td><td>63.0</td><td>12.0</td><td>0.0</td><td>0.0</td><td>9.0</td><td>0.0</td><td>0.0</td><td>46.0</td><td>63.0</td><td>1.0</td><td>0.0</td><td>0.0</td><td>0.0</td><td>5.0</td><td>197.0</td><td>197.0</td><td>283.0</td><td>59004.0</td><td>9.0</td><td>248.0</td><td>1466.0</td><td>5.0</td><td>8.0</td><td>9.0</td><td>250.0</td><td>1611.0</td><td>633.0</td><td>1756.0</td><td>50524.0</td><td>&hellip;</td><td>0.0</td><td>0.0</td><td>0.0</td><td>0.0</td><td>0.0</td><td>0.0</td><td>0.0</td><td>0.0</td><td>0.0</td><td>0.0</td><td>0.0</td><td>0.0</td><td>0.0</td><td>0.0</td><td>0.0</td><td>0.0</td><td>0.0</td><td>0.0</td><td>0.0</td><td>0.0</td><td>0.0</td><td>0.0</td><td>0.0</td><td>0.0</td><td>0.0</td><td>0.0</td><td>0.0</td><td>0.0</td><td>0.0</td><td>0.0</td><td>0.0</td><td>0.0</td><td>0.0</td><td>0.0</td><td>0.0</td><td>0.0</td><td>173595.0</td></tr><tr><td>&quot;50%&quot;</td><td>347002.0</td><td>0.0</td><td>1.0</td><td>1668.0</td><td>1759.0</td><td>76.0</td><td>102538.0</td><td>191.0</td><td>31.0</td><td>0.0</td><td>0.0</td><td>95.0</td><td>0.0</td><td>0.0</td><td>187.0</td><td>191.0</td><td>1.0</td><td>0.0</td><td>20.0</td><td>27.0</td><td>13.0</td><td>248.0</td><td>248.0</td><td>347.0</td><td>140184.0</td><td>9.0</td><td>248.0</td><td>1722.0</td><td>5.0</td><td>8.0</td><td>9.0</td><td>250.0</td><td>1738.0</td><td>633.0</td><td>1756.0</td><td>50524.0</td><td>&hellip;</td><td>0.0</td><td>0.0</td><td>0.0</td><td>0.0</td><td>0.0</td><td>0.0</td><td>0.0</td><td>0.0</td><td>0.0</td><td>0.0</td><td>0.0</td><td>0.0</td><td>0.0</td><td>0.0</td><td>0.0</td><td>0.0</td><td>0.0</td><td>0.0</td><td>0.0</td><td>0.0</td><td>0.0</td><td>0.0</td><td>0.0</td><td>0.0</td><td>0.0</td><td>0.0</td><td>0.0</td><td>0.0</td><td>0.0</td><td>0.0</td><td>0.0</td><td>0.0</td><td>0.0</td><td>0.0</td><td>0.0</td><td>0.0</td><td>347002.0</td></tr><tr><td>&quot;75%&quot;</td><td>519979.0</td><td>0.0</td><td>1.0</td><td>1761.0</td><td>1759.0</td><td>117.0</td><td>104624.0</td><td>191.0</td><td>63.0</td><td>125.0</td><td>290.0</td><td>298.0</td><td>176.0</td><td>121.0</td><td>187.0</td><td>191.0</td><td>227.0</td><td>282.0</td><td>243.0</td><td>275.0</td><td>28.0</td><td>248.0</td><td>248.0</td><td>347.0</td><td>140184.0</td><td>9.0</td><td>248.0</td><td>1722.0</td><td>5.0</td><td>8.0</td><td>9.0</td><td>250.0</td><td>1738.0</td><td>633.0</td><td>1756.0</td><td>50524.0</td><td>&hellip;</td><td>4124.0</td><td>0.0</td><td>0.0</td><td>0.0</td><td>0.0</td><td>0.0</td><td>0.0</td><td>0.0</td><td>0.0</td><td>0.0</td><td>0.0</td><td>0.0</td><td>0.0</td><td>0.0</td><td>0.0</td><td>0.0</td><td>0.0</td><td>0.0</td><td>0.0</td><td>0.0</td><td>0.0</td><td>0.0</td><td>0.0</td><td>0.0</td><td>0.0</td><td>0.0</td><td>0.0</td><td>5823.0</td><td>35790.0</td><td>0.0</td><td>0.0</td><td>0.0</td><td>0.0</td><td>0.0</td><td>5823.0</td><td>35790.0</td><td>519979.0</td></tr><tr><td>&quot;max&quot;</td><td>693042.0</td><td>1.0</td><td>1.0</td><td>1761.0</td><td>1759.0</td><td>141.0</td><td>106448.0</td><td>191.0</td><td>284.0</td><td>125.0</td><td>290.0</td><td>298.0</td><td>176.0</td><td>121.0</td><td>187.0</td><td>191.0</td><td>227.0</td><td>282.0</td><td>243.0</td><td>275.0</td><td>28.0</td><td>248.0</td><td>248.0</td><td>347.0</td><td>140184.0</td><td>9.0</td><td>248.0</td><td>1722.0</td><td>5.0</td><td>8.0</td><td>9.0</td><td>250.0</td><td>1738.0</td><td>633.0</td><td>1756.0</td><td>50524.0</td><td>&hellip;</td><td>80056.0</td><td>13475.0</td><td>8736.0</td><td>3901.0</td><td>17827.0</td><td>19079.0</td><td>19079.0</td><td>19079.0</td><td>1830.0</td><td>1756.0</td><td>1638.0</td><td>2691.0</td><td>3400.0</td><td>4823.0</td><td>7137.0</td><td>28435.0</td><td>20019.0</td><td>10091.0</td><td>39592.0</td><td>43300.0</td><td>43300.0</td><td>43300.0</td><td>49909.0</td><td>50250.0</td><td>51714.0</td><td>69081.0</td><td>83903.0</td><td>117161.0</td><td>168455.0</td><td>49909.0</td><td>50250.0</td><td>51714.0</td><td>69081.0</td><td>83903.0</td><td>117161.0</td><td>168455.0</td><td>693042.0</td></tr></tbody></table></div>"
      ],
      "text/plain": [
       "shape: (9, 1_081)\n",
       "┌───────────┬───────────┬──────────┬───────────┬───┬───────────┬───────────┬───────────┬───────────┐\n",
       "│ statistic ┆ id        ┆ target   ┆ sample_ml ┆ … ┆ feature10 ┆ feature10 ┆ feature10 ┆ __index_l │\n",
       "│ ---       ┆ ---       ┆ ---      ┆ _new      ┆   ┆ 74        ┆ 75        ┆ 76        ┆ evel_0__  │\n",
       "│ str       ┆ f64       ┆ f64      ┆ ---       ┆   ┆ ---       ┆ ---       ┆ ---       ┆ ---       │\n",
       "│           ┆           ┆          ┆ f64       ┆   ┆ f64       ┆ f64       ┆ f64       ┆ f64       │\n",
       "╞═══════════╪═══════════╪══════════╪═══════════╪═══╪═══════════╪═══════════╪═══════════╪═══════════╡\n",
       "│ count     ┆ 519615.0  ┆ 519615.0 ┆ 519615.0  ┆ … ┆ 519615.0  ┆ 519615.0  ┆ 519615.0  ┆ 519615.0  │\n",
       "│ null_coun ┆ 0.0       ┆ 0.0      ┆ 0.0       ┆ … ┆ 0.0       ┆ 0.0       ┆ 0.0       ┆ 0.0       │\n",
       "│ t         ┆           ┆          ┆           ┆   ┆           ┆           ┆           ┆           │\n",
       "│ mean      ┆ 346719.61 ┆ 0.035674 ┆ 1.0       ┆ … ┆ 7200.8403 ┆ 13172.209 ┆ 26496.441 ┆ 346719.61 │\n",
       "│           ┆ 6297      ┆          ┆           ┆   ┆ 65        ┆ 817       ┆ 469       ┆ 6297      │\n",
       "│ std       ┆ 200003.31 ┆ 0.185477 ┆ 0.0       ┆ … ┆ 17892.604 ┆ 27943.888 ┆ 45663.346 ┆ 200003.31 │\n",
       "│           ┆ 4087      ┆          ┆           ┆   ┆ 226       ┆ 849       ┆ 437       ┆ 4087      │\n",
       "│ min       ┆ 0.0       ┆ 0.0      ┆ 1.0       ┆ … ┆ 0.0       ┆ 0.0       ┆ 0.0       ┆ 0.0       │\n",
       "│ 25%       ┆ 173595.0  ┆ 0.0      ┆ 1.0       ┆ … ┆ 0.0       ┆ 0.0       ┆ 0.0       ┆ 173595.0  │\n",
       "│ 50%       ┆ 347002.0  ┆ 0.0      ┆ 1.0       ┆ … ┆ 0.0       ┆ 0.0       ┆ 0.0       ┆ 347002.0  │\n",
       "│ 75%       ┆ 519979.0  ┆ 0.0      ┆ 1.0       ┆ … ┆ 0.0       ┆ 5823.0    ┆ 35790.0   ┆ 519979.0  │\n",
       "│ max       ┆ 693042.0  ┆ 1.0      ┆ 1.0       ┆ … ┆ 83903.0   ┆ 117161.0  ┆ 168455.0  ┆ 693042.0  │\n",
       "└───────────┴───────────┴──────────┴───────────┴───┴───────────┴───────────┴───────────┴───────────┘"
      ]
     },
     "execution_count": 5,
     "metadata": {},
     "output_type": "execute_result"
    }
   ],
   "source": [
    "data.describe()"
   ]
  },
  {
   "cell_type": "markdown",
   "id": "2eee5dec",
   "metadata": {},
   "source": [
    "## 1. Drop constant and near-constant features"
   ]
  },
  {
   "cell_type": "code",
   "execution_count": 6,
   "id": "3b3e0460-cddd-4194-a304-2690bac231b5",
   "metadata": {},
   "outputs": [
    {
     "data": {
      "text/html": [
       "<div><style>\n",
       ".dataframe > thead > tr,\n",
       ".dataframe > tbody > tr {\n",
       "  text-align: right;\n",
       "  white-space: pre-wrap;\n",
       "}\n",
       "</style>\n",
       "<small>shape: (2, 2)</small><table border=\"1\" class=\"dataframe\"><thead><tr><th>target</th><th>count</th></tr><tr><td>i64</td><td>f64</td></tr></thead><tbody><tr><td>0</td><td>0.964</td></tr><tr><td>1</td><td>0.036</td></tr></tbody></table></div>"
      ],
      "text/plain": [
       "shape: (2, 2)\n",
       "┌────────┬───────┐\n",
       "│ target ┆ count │\n",
       "│ ---    ┆ ---   │\n",
       "│ i64    ┆ f64   │\n",
       "╞════════╪═══════╡\n",
       "│ 0      ┆ 0.964 │\n",
       "│ 1      ┆ 0.036 │\n",
       "└────────┴───────┘"
      ]
     },
     "execution_count": 6,
     "metadata": {},
     "output_type": "execute_result"
    }
   ],
   "source": [
    "data['target'].value_counts(\n",
    "    sort=True\n",
    ").with_columns(\n",
    "    (pl.col('count') / pl.col('count').sum()).round(3)\n",
    ")"
   ]
  },
  {
   "cell_type": "code",
   "execution_count": 7,
   "id": "abcce122-17c4-4830-b054-a1fc2772f626",
   "metadata": {},
   "outputs": [
    {
     "data": {
      "text/plain": [
       "51.961499999994274"
      ]
     },
     "execution_count": 7,
     "metadata": {},
     "output_type": "execute_result"
    }
   ],
   "source": [
    "(1-0.9999) * len(data)"
   ]
  },
  {
   "cell_type": "code",
   "execution_count": 8,
   "id": "5ab1bbd2",
   "metadata": {},
   "outputs": [
    {
     "name": "stderr",
     "output_type": "stream",
     "text": [
      "100%|██████████████████████████████████████| 1080/1080 [00:07<00:00, 148.84it/s]\n"
     ]
    }
   ],
   "source": [
    "feature = []\n",
    "value = []\n",
    "\n",
    "for column in tqdm(data.columns):\n",
    "    most_freq_value_frac = data[column].value_counts(\n",
    "        sort=True\n",
    "    ).with_columns(\n",
    "        pl.col('count') / pl.col('count').sum()\n",
    "    ).head(\n",
    "        1\n",
    "    )['count'].item()\n",
    "\n",
    "    feature.append(column)\n",
    "    value.append(most_freq_value_frac)\n",
    "\n",
    "df_most_freq_value_fracs = pl.DataFrame({\n",
    "    'feature': feature,\n",
    "    'value': value,\n",
    "})"
   ]
  },
  {
   "cell_type": "code",
   "execution_count": 9,
   "id": "3b335076-fca0-4544-b409-76573541c40b",
   "metadata": {
    "scrolled": true
   },
   "outputs": [
    {
     "data": {
      "text/html": [
       "<div><style>\n",
       ".dataframe > thead > tr,\n",
       ".dataframe > tbody > tr {\n",
       "  text-align: right;\n",
       "  white-space: pre-wrap;\n",
       "}\n",
       "</style>\n",
       "<small>shape: (117, 2)</small><table border=\"1\" class=\"dataframe\"><thead><tr><th>feature</th><th>value</th></tr><tr><td>str</td><td>f64</td></tr></thead><tbody><tr><td>&quot;sample_ml_new&quot;</td><td>1.0</td></tr><tr><td>&quot;feature23&quot;</td><td>0.999985</td></tr><tr><td>&quot;feature26&quot;</td><td>0.999994</td></tr><tr><td>&quot;feature27&quot;</td><td>0.999987</td></tr><tr><td>&quot;feature28&quot;</td><td>0.999985</td></tr><tr><td>&quot;feature66&quot;</td><td>0.999931</td></tr><tr><td>&quot;feature68&quot;</td><td>1.0</td></tr><tr><td>&quot;feature69&quot;</td><td>1.0</td></tr><tr><td>&quot;feature144&quot;</td><td>1.0</td></tr><tr><td>&quot;feature160&quot;</td><td>1.0</td></tr><tr><td>&quot;feature281&quot;</td><td>0.99999</td></tr><tr><td>&quot;feature285&quot;</td><td>0.999931</td></tr><tr><td>&hellip;</td><td>&hellip;</td></tr><tr><td>&quot;feature1023&quot;</td><td>1.0</td></tr><tr><td>&quot;feature1024&quot;</td><td>1.0</td></tr><tr><td>&quot;feature1025&quot;</td><td>1.0</td></tr><tr><td>&quot;feature1026&quot;</td><td>1.0</td></tr><tr><td>&quot;feature1027&quot;</td><td>1.0</td></tr><tr><td>&quot;feature1028&quot;</td><td>1.0</td></tr><tr><td>&quot;feature1029&quot;</td><td>1.0</td></tr><tr><td>&quot;feature1030&quot;</td><td>1.0</td></tr><tr><td>&quot;feature1031&quot;</td><td>1.0</td></tr><tr><td>&quot;feature1032&quot;</td><td>1.0</td></tr><tr><td>&quot;feature1033&quot;</td><td>1.0</td></tr><tr><td>&quot;feature1034&quot;</td><td>1.0</td></tr></tbody></table></div>"
      ],
      "text/plain": [
       "shape: (117, 2)\n",
       "┌───────────────┬──────────┐\n",
       "│ feature       ┆ value    │\n",
       "│ ---           ┆ ---      │\n",
       "│ str           ┆ f64      │\n",
       "╞═══════════════╪══════════╡\n",
       "│ sample_ml_new ┆ 1.0      │\n",
       "│ feature23     ┆ 0.999985 │\n",
       "│ feature26     ┆ 0.999994 │\n",
       "│ feature27     ┆ 0.999987 │\n",
       "│ feature28     ┆ 0.999985 │\n",
       "│ …             ┆ …        │\n",
       "│ feature1030   ┆ 1.0      │\n",
       "│ feature1031   ┆ 1.0      │\n",
       "│ feature1032   ┆ 1.0      │\n",
       "│ feature1033   ┆ 1.0      │\n",
       "│ feature1034   ┆ 1.0      │\n",
       "└───────────────┴──────────┘"
      ]
     },
     "execution_count": 9,
     "metadata": {},
     "output_type": "execute_result"
    }
   ],
   "source": [
    "df_most_freq_value_fracs.filter(\n",
    "    pl.col('value') > 0.9999\n",
    ")"
   ]
  },
  {
   "cell_type": "code",
   "execution_count": 10,
   "id": "2fb7dcc8",
   "metadata": {
    "scrolled": true
   },
   "outputs": [
    {
     "data": {
      "text/plain": [
       "array(['sample_ml_new', 'feature23', 'feature26', 'feature27',\n",
       "       'feature28', 'feature66', 'feature68', 'feature69', 'feature144',\n",
       "       'feature160', 'feature281', 'feature285', 'feature292',\n",
       "       'feature301', 'feature302', 'feature321', 'feature325',\n",
       "       'feature404', 'feature406', 'feature407', 'feature496',\n",
       "       'feature511', 'feature617', 'feature625', 'feature661',\n",
       "       'feature662', 'feature663', 'feature669', 'feature678',\n",
       "       'feature682', 'feature683', 'feature685', 'feature686',\n",
       "       'feature700', 'feature701', 'feature710', 'feature711',\n",
       "       'feature719', 'feature744', 'feature748', 'feature756',\n",
       "       'feature761', 'feature765', 'feature774', 'feature775',\n",
       "       'feature801', 'feature802', 'feature806', 'feature807',\n",
       "       'feature808', 'feature809', 'feature816', 'feature818',\n",
       "       'feature819', 'feature886', 'feature889', 'feature910',\n",
       "       'feature955', 'feature956', 'feature957', 'feature958',\n",
       "       'feature959', 'feature960', 'feature961', 'feature962',\n",
       "       'feature963', 'feature964', 'feature965', 'feature966',\n",
       "       'feature967', 'feature968', 'feature969', 'feature970',\n",
       "       'feature971', 'feature972', 'feature973', 'feature974',\n",
       "       'feature975', 'feature976', 'feature977', 'feature978',\n",
       "       'feature979', 'feature980', 'feature981', 'feature982',\n",
       "       'feature983', 'feature984', 'feature1005', 'feature1006',\n",
       "       'feature1007', 'feature1008', 'feature1009', 'feature1010',\n",
       "       'feature1011', 'feature1012', 'feature1013', 'feature1014',\n",
       "       'feature1015', 'feature1016', 'feature1017', 'feature1018',\n",
       "       'feature1019', 'feature1020', 'feature1021', 'feature1022',\n",
       "       'feature1023', 'feature1024', 'feature1025', 'feature1026',\n",
       "       'feature1027', 'feature1028', 'feature1029', 'feature1030',\n",
       "       'feature1031', 'feature1032', 'feature1033', 'feature1034'],\n",
       "      dtype=object)"
      ]
     },
     "execution_count": 10,
     "metadata": {},
     "output_type": "execute_result"
    }
   ],
   "source": [
    "constant_features = df_most_freq_value_fracs.filter(\n",
    "    pl.col('value') > 0.9999\n",
    ")['feature'].to_numpy()\n",
    "\n",
    "constant_features"
   ]
  },
  {
   "cell_type": "code",
   "execution_count": 11,
   "id": "40fce007",
   "metadata": {},
   "outputs": [
    {
     "name": "stdout",
     "output_type": "stream",
     "text": [
      "Data shape and size: (519615, 963) 3.728\n"
     ]
    }
   ],
   "source": [
    "data = data.drop(constant_features)\n",
    "data_test = data_test.drop(constant_features)\n",
    "print('Data shape and size:', data.shape, round(data.estimated_size('gb'), 3))"
   ]
  },
  {
   "cell_type": "markdown",
   "id": "5a7674e8",
   "metadata": {},
   "source": [
    "## 2. Process missing values"
   ]
  },
  {
   "cell_type": "code",
   "execution_count": 12,
   "id": "f8973176-4ee4-406b-a15b-f412143dcea2",
   "metadata": {},
   "outputs": [
    {
     "data": {
      "text/html": [
       "<div>\n",
       "<style scoped>\n",
       "    .dataframe tbody tr th:only-of-type {\n",
       "        vertical-align: middle;\n",
       "    }\n",
       "\n",
       "    .dataframe tbody tr th {\n",
       "        vertical-align: top;\n",
       "    }\n",
       "\n",
       "    .dataframe thead th {\n",
       "        text-align: right;\n",
       "    }\n",
       "</style>\n",
       "<table border=\"1\" class=\"dataframe\">\n",
       "  <thead>\n",
       "    <tr style=\"text-align: right;\">\n",
       "      <th></th>\n",
       "      <th>is_null_sum</th>\n",
       "    </tr>\n",
       "  </thead>\n",
       "  <tbody>\n",
       "    <tr>\n",
       "      <th>feature642</th>\n",
       "      <td>315324</td>\n",
       "    </tr>\n",
       "  </tbody>\n",
       "</table>\n",
       "</div>"
      ],
      "text/plain": [
       "            is_null_sum\n",
       "feature642       315324"
      ]
     },
     "execution_count": 12,
     "metadata": {},
     "output_type": "execute_result"
    }
   ],
   "source": [
    "data.select(pl.all().is_null()).sum().to_pandas().T.rename(columns={0: 'is_null_sum'}).query('is_null_sum > 0')"
   ]
  },
  {
   "cell_type": "code",
   "execution_count": 13,
   "id": "7402fd95",
   "metadata": {},
   "outputs": [
    {
     "data": {
      "text/html": [
       "<div><style>\n",
       ".dataframe > thead > tr,\n",
       ".dataframe > tbody > tr {\n",
       "  text-align: right;\n",
       "  white-space: pre-wrap;\n",
       "}\n",
       "</style>\n",
       "<small>shape: (3, 1)</small><table border=\"1\" class=\"dataframe\"><thead><tr><th>feature642</th></tr><tr><td>f64</td></tr></thead><tbody><tr><td>null</td></tr><tr><td>0.0</td></tr><tr><td>1.0</td></tr></tbody></table></div>"
      ],
      "text/plain": [
       "shape: (3, 1)\n",
       "┌────────────┐\n",
       "│ feature642 │\n",
       "│ ---        │\n",
       "│ f64        │\n",
       "╞════════════╡\n",
       "│ null       │\n",
       "│ 0.0        │\n",
       "│ 1.0        │\n",
       "└────────────┘"
      ]
     },
     "execution_count": 13,
     "metadata": {},
     "output_type": "execute_result"
    }
   ],
   "source": [
    "data.select('feature642').unique()"
   ]
  },
  {
   "cell_type": "code",
   "execution_count": 14,
   "id": "6bd743a5",
   "metadata": {},
   "outputs": [
    {
     "data": {
      "text/html": [
       "<div><style>\n",
       ".dataframe > thead > tr,\n",
       ".dataframe > tbody > tr {\n",
       "  text-align: right;\n",
       "  white-space: pre-wrap;\n",
       "}\n",
       "</style>\n",
       "<small>shape: (3, 1)</small><table border=\"1\" class=\"dataframe\"><thead><tr><th>feature642</th></tr><tr><td>i8</td></tr></thead><tbody><tr><td>0</td></tr><tr><td>1</td></tr><tr><td>-1</td></tr></tbody></table></div>"
      ],
      "text/plain": [
       "shape: (3, 1)\n",
       "┌────────────┐\n",
       "│ feature642 │\n",
       "│ ---        │\n",
       "│ i8         │\n",
       "╞════════════╡\n",
       "│ 0          │\n",
       "│ 1          │\n",
       "│ -1         │\n",
       "└────────────┘"
      ]
     },
     "execution_count": 14,
     "metadata": {},
     "output_type": "execute_result"
    }
   ],
   "source": [
    "data = data.with_columns(\n",
    "    pl.col('feature642').fill_null(-1).cast(pl.Int8)\n",
    ")\n",
    "data_test = data_test.with_columns(\n",
    "    pl.col('feature642').fill_null(-1).cast(pl.Int8)\n",
    ")\n",
    "data.select('feature642').unique()"
   ]
  },
  {
   "cell_type": "markdown",
   "id": "16b02f03-c5ce-43b9-a11a-dea335c1d640",
   "metadata": {},
   "source": [
    "## 3. Check non featureX cols"
   ]
  },
  {
   "cell_type": "code",
   "execution_count": 15,
   "id": "68d9357e-fbe1-4072-84f0-459382b0fc56",
   "metadata": {
    "scrolled": true
   },
   "outputs": [
    {
     "data": {
      "text/html": [
       "<div><style>\n",
       ".dataframe > thead > tr,\n",
       ".dataframe > tbody > tr {\n",
       "  text-align: right;\n",
       "  white-space: pre-wrap;\n",
       "}\n",
       "</style>\n",
       "<small>shape: (519_615, 3)</small><table border=\"1\" class=\"dataframe\"><thead><tr><th>id</th><th>target</th><th>__index_level_0__</th></tr><tr><td>i64</td><td>i64</td><td>i64</td></tr></thead><tbody><tr><td>0</td><td>0</td><td>0</td></tr><tr><td>1</td><td>0</td><td>1</td></tr><tr><td>2</td><td>0</td><td>2</td></tr><tr><td>5</td><td>0</td><td>5</td></tr><tr><td>6</td><td>0</td><td>6</td></tr><tr><td>7</td><td>0</td><td>7</td></tr><tr><td>8</td><td>0</td><td>8</td></tr><tr><td>9</td><td>0</td><td>9</td></tr><tr><td>10</td><td>0</td><td>10</td></tr><tr><td>11</td><td>0</td><td>11</td></tr><tr><td>13</td><td>0</td><td>13</td></tr><tr><td>14</td><td>1</td><td>14</td></tr><tr><td>&hellip;</td><td>&hellip;</td><td>&hellip;</td></tr><tr><td>693028</td><td>0</td><td>693028</td></tr><tr><td>693029</td><td>0</td><td>693029</td></tr><tr><td>693030</td><td>0</td><td>693030</td></tr><tr><td>693031</td><td>1</td><td>693031</td></tr><tr><td>693032</td><td>0</td><td>693032</td></tr><tr><td>693034</td><td>1</td><td>693034</td></tr><tr><td>693035</td><td>0</td><td>693035</td></tr><tr><td>693036</td><td>0</td><td>693036</td></tr><tr><td>693038</td><td>0</td><td>693038</td></tr><tr><td>693039</td><td>0</td><td>693039</td></tr><tr><td>693040</td><td>0</td><td>693040</td></tr><tr><td>693042</td><td>1</td><td>693042</td></tr></tbody></table></div>"
      ],
      "text/plain": [
       "shape: (519_615, 3)\n",
       "┌────────┬────────┬───────────────────┐\n",
       "│ id     ┆ target ┆ __index_level_0__ │\n",
       "│ ---    ┆ ---    ┆ ---               │\n",
       "│ i64    ┆ i64    ┆ i64               │\n",
       "╞════════╪════════╪═══════════════════╡\n",
       "│ 0      ┆ 0      ┆ 0                 │\n",
       "│ 1      ┆ 0      ┆ 1                 │\n",
       "│ 2      ┆ 0      ┆ 2                 │\n",
       "│ 5      ┆ 0      ┆ 5                 │\n",
       "│ 6      ┆ 0      ┆ 6                 │\n",
       "│ …      ┆ …      ┆ …                 │\n",
       "│ 693036 ┆ 0      ┆ 693036            │\n",
       "│ 693038 ┆ 0      ┆ 693038            │\n",
       "│ 693039 ┆ 0      ┆ 693039            │\n",
       "│ 693040 ┆ 0      ┆ 693040            │\n",
       "│ 693042 ┆ 1      ┆ 693042            │\n",
       "└────────┴────────┴───────────────────┘"
      ]
     },
     "execution_count": 15,
     "metadata": {},
     "output_type": "execute_result"
    }
   ],
   "source": [
    "data.select([col for col in data.columns if col[:7] != 'feature'])"
   ]
  },
  {
   "cell_type": "code",
   "execution_count": 16,
   "id": "977d6d45-d577-48be-8625-176c5102d856",
   "metadata": {},
   "outputs": [
    {
     "data": {
      "text/html": [
       "<div><style>\n",
       ".dataframe > thead > tr,\n",
       ".dataframe > tbody > tr {\n",
       "  text-align: right;\n",
       "  white-space: pre-wrap;\n",
       "}\n",
       "</style>\n",
       "<small>shape: (1, 3)</small><table border=\"1\" class=\"dataframe\"><thead><tr><th>id</th><th>__index_level_0__</th><th>len</th></tr><tr><td>u32</td><td>u32</td><td>u32</td></tr></thead><tbody><tr><td>519615</td><td>519615</td><td>519615</td></tr></tbody></table></div>"
      ],
      "text/plain": [
       "shape: (1, 3)\n",
       "┌────────┬───────────────────┬────────┐\n",
       "│ id     ┆ __index_level_0__ ┆ len    │\n",
       "│ ---    ┆ ---               ┆ ---    │\n",
       "│ u32    ┆ u32               ┆ u32    │\n",
       "╞════════╪═══════════════════╪════════╡\n",
       "│ 519615 ┆ 519615            ┆ 519615 │\n",
       "└────────┴───────────────────┴────────┘"
      ]
     },
     "execution_count": 16,
     "metadata": {},
     "output_type": "execute_result"
    }
   ],
   "source": [
    "data.select(\n",
    "    pl.col('id').n_unique(),\n",
    "    pl.col('__index_level_0__').n_unique(),\n",
    "    pl.len()\n",
    ")"
   ]
  },
  {
   "cell_type": "code",
   "execution_count": 17,
   "id": "2762141a-7377-4cb4-bb74-57f31b9c286d",
   "metadata": {},
   "outputs": [
    {
     "data": {
      "text/html": [
       "<div><style>\n",
       ".dataframe > thead > tr,\n",
       ".dataframe > tbody > tr {\n",
       "  text-align: right;\n",
       "  white-space: pre-wrap;\n",
       "}\n",
       "</style>\n",
       "<small>shape: (1, 961)</small><table border=\"1\" class=\"dataframe\"><thead><tr><th>target</th><th>feature1</th><th>feature2</th><th>feature3</th><th>feature4</th><th>feature5</th><th>feature6</th><th>feature7</th><th>feature8</th><th>feature9</th><th>feature10</th><th>feature11</th><th>feature12</th><th>feature13</th><th>feature14</th><th>feature15</th><th>feature16</th><th>feature17</th><th>feature18</th><th>feature19</th><th>feature20</th><th>feature21</th><th>feature22</th><th>feature24</th><th>feature25</th><th>feature29</th><th>feature30</th><th>feature31</th><th>feature32</th><th>feature33</th><th>feature34</th><th>feature35</th><th>feature36</th><th>feature37</th><th>feature38</th><th>feature39</th><th>feature40</th><th>&hellip;</th><th>feature1040</th><th>feature1041</th><th>feature1042</th><th>feature1043</th><th>feature1044</th><th>feature1045</th><th>feature1046</th><th>feature1047</th><th>feature1048</th><th>feature1049</th><th>feature1050</th><th>feature1051</th><th>feature1052</th><th>feature1053</th><th>feature1054</th><th>feature1055</th><th>feature1056</th><th>feature1057</th><th>feature1058</th><th>feature1059</th><th>feature1060</th><th>feature1061</th><th>feature1062</th><th>feature1063</th><th>feature1064</th><th>feature1065</th><th>feature1066</th><th>feature1067</th><th>feature1068</th><th>feature1069</th><th>feature1070</th><th>feature1071</th><th>feature1072</th><th>feature1073</th><th>feature1074</th><th>feature1075</th><th>feature1076</th></tr><tr><td>i64</td><td>i64</td><td>i64</td><td>i64</td><td>i64</td><td>i64</td><td>i64</td><td>i64</td><td>i64</td><td>i64</td><td>i64</td><td>i64</td><td>i64</td><td>i64</td><td>i64</td><td>i64</td><td>i64</td><td>i64</td><td>i64</td><td>i64</td><td>i64</td><td>i64</td><td>i64</td><td>i64</td><td>i64</td><td>i64</td><td>i64</td><td>i64</td><td>i64</td><td>i64</td><td>i64</td><td>i64</td><td>i64</td><td>i64</td><td>i64</td><td>i64</td><td>i64</td><td>&hellip;</td><td>i64</td><td>i64</td><td>i64</td><td>i64</td><td>i64</td><td>i64</td><td>i64</td><td>i64</td><td>i64</td><td>i64</td><td>i64</td><td>i64</td><td>i64</td><td>i64</td><td>i64</td><td>i64</td><td>i64</td><td>i64</td><td>i64</td><td>i64</td><td>i64</td><td>i64</td><td>i64</td><td>i64</td><td>i64</td><td>i64</td><td>i64</td><td>i64</td><td>i64</td><td>i64</td><td>i64</td><td>i64</td><td>i64</td><td>i64</td><td>i64</td><td>i64</td><td>i64</td></tr></thead><tbody><tr><td>0</td><td>1761</td><td>1759</td><td>85</td><td>105469</td><td>191</td><td>46</td><td>0</td><td>6</td><td>95</td><td>0</td><td>0</td><td>20</td><td>191</td><td>1</td><td>6</td><td>50</td><td>60</td><td>7</td><td>248</td><td>248</td><td>347</td><td>91601</td><td>173</td><td>1722</td><td>174</td><td>1738</td><td>633</td><td>1545</td><td>50524</td><td>51771</td><td>16130</td><td>3652</td><td>85495</td><td>14172</td><td>11665</td><td>16298</td><td>&hellip;</td><td>0</td><td>0</td><td>0</td><td>0</td><td>0</td><td>0</td><td>0</td><td>0</td><td>0</td><td>0</td><td>0</td><td>0</td><td>0</td><td>0</td><td>0</td><td>0</td><td>0</td><td>0</td><td>0</td><td>0</td><td>0</td><td>0</td><td>0</td><td>12045</td><td>12107</td><td>12510</td><td>21126</td><td>28913</td><td>48985</td><td>84264</td><td>12045</td><td>12107</td><td>12510</td><td>21126</td><td>28913</td><td>48985</td><td>84264</td></tr></tbody></table></div>"
      ],
      "text/plain": [
       "shape: (1, 961)\n",
       "┌────────┬──────────┬──────────┬──────────┬───┬─────────────┬────────────┬────────────┬────────────┐\n",
       "│ target ┆ feature1 ┆ feature2 ┆ feature3 ┆ … ┆ feature1073 ┆ feature107 ┆ feature107 ┆ feature107 │\n",
       "│ ---    ┆ ---      ┆ ---      ┆ ---      ┆   ┆ ---         ┆ 4          ┆ 5          ┆ 6          │\n",
       "│ i64    ┆ i64      ┆ i64      ┆ i64      ┆   ┆ i64         ┆ ---        ┆ ---        ┆ ---        │\n",
       "│        ┆          ┆          ┆          ┆   ┆             ┆ i64        ┆ i64        ┆ i64        │\n",
       "╞════════╪══════════╪══════════╪══════════╪═══╪═════════════╪════════════╪════════════╪════════════╡\n",
       "│ 0      ┆ 1761     ┆ 1759     ┆ 85       ┆ … ┆ 21126       ┆ 28913      ┆ 48985      ┆ 84264      │\n",
       "└────────┴──────────┴──────────┴──────────┴───┴─────────────┴────────────┴────────────┴────────────┘"
      ]
     },
     "execution_count": 17,
     "metadata": {},
     "output_type": "execute_result"
    }
   ],
   "source": [
    "data = data.drop('id', '__index_level_0__')\n",
    "data_test = data_test.drop('id', '__index_level_0__')\n",
    "data.head(1)"
   ]
  },
  {
   "cell_type": "markdown",
   "id": "690fe8eb-ca3c-4136-bd17-8ca20b402a66",
   "metadata": {},
   "source": [
    "## 4. Check correlations"
   ]
  },
  {
   "cell_type": "code",
   "execution_count": 18,
   "id": "7ee123ad-b18c-462a-abce-7a08dd9ee785",
   "metadata": {
    "scrolled": true
   },
   "outputs": [
    {
     "name": "stderr",
     "output_type": "stream",
     "text": [
      "100%|█████████████████████████████████████████| 960/960 [27:54<00:00,  1.74s/it]\n"
     ]
    },
    {
     "data": {
      "text/html": [
       "<div><style>\n",
       ".dataframe > thead > tr,\n",
       ".dataframe > tbody > tr {\n",
       "  text-align: right;\n",
       "  white-space: pre-wrap;\n",
       "}\n",
       "</style>\n",
       "<small>shape: (3, 3)</small><table border=\"1\" class=\"dataframe\"><thead><tr><th>feat1</th><th>feat2</th><th>corr</th></tr><tr><td>str</td><td>str</td><td>f64</td></tr></thead><tbody><tr><td>&quot;feature1&quot;</td><td>&quot;feature2&quot;</td><td>0.578284</td></tr><tr><td>&quot;feature1&quot;</td><td>&quot;feature3&quot;</td><td>-0.020851</td></tr><tr><td>&quot;feature1&quot;</td><td>&quot;feature4&quot;</td><td>-0.069082</td></tr></tbody></table></div>"
      ],
      "text/plain": [
       "shape: (3, 3)\n",
       "┌──────────┬──────────┬───────────┐\n",
       "│ feat1    ┆ feat2    ┆ corr      │\n",
       "│ ---      ┆ ---      ┆ ---       │\n",
       "│ str      ┆ str      ┆ f64       │\n",
       "╞══════════╪══════════╪═══════════╡\n",
       "│ feature1 ┆ feature2 ┆ 0.578284  │\n",
       "│ feature1 ┆ feature3 ┆ -0.020851 │\n",
       "│ feature1 ┆ feature4 ┆ -0.069082 │\n",
       "└──────────┴──────────┴───────────┘"
      ]
     },
     "execution_count": 18,
     "metadata": {},
     "output_type": "execute_result"
    }
   ],
   "source": [
    "data_for_corr = pl.concat(\n",
    "    [\n",
    "        data.filter(pl.col('target') == 0).sample(n=100_000, seed=42),\n",
    "        data.filter(pl.col('target') == 1)\n",
    "    ],\n",
    "    how='vertical'\n",
    ")\n",
    "\n",
    "corrs = []\n",
    "for i, feat1 in tqdm(enumerate(data_for_corr.columns[1:], start=1), total=len(data_for_corr.columns[1:])):\n",
    "    for j, feat2 in enumerate(data_for_corr.columns[1+i:-1], start=1):\n",
    "        corrs.append(\n",
    "            [feat1, feat2, data_for_corr.select(pl.corr(feat1, feat2, method='spearman')).item()]\n",
    "        )\n",
    "\n",
    "corrs = pl.from_records(corrs, schema=['feat1', 'feat2', 'corr'])\n",
    "corrs.head(3)"
   ]
  },
  {
   "cell_type": "code",
   "execution_count": 19,
   "id": "a0d0f532-5c22-448a-a143-927bd6fa8425",
   "metadata": {
    "scrolled": true
   },
   "outputs": [],
   "source": [
    "super_correlated = corrs.filter(pl.col('corr').abs() >= 0.99)\n",
    "\n",
    "features_correlated = super_correlated.filter(\n",
    "    ~pl.col('feat1').is_in(super_correlated['feat2'].unique())  # to avoid cases when cor(x, y) = 0.99, cor(y, z) = 0.99, cor(x, z) = 0\n",
    ")['feat2'].to_list()"
   ]
  },
  {
   "cell_type": "code",
   "execution_count": 20,
   "id": "a6e3b69c-bb30-46ac-9be6-f5c14f4e5161",
   "metadata": {
    "scrolled": true
   },
   "outputs": [
    {
     "data": {
      "text/plain": [
       "array(['feature812', 'feature814', 'feature933', 'feature934',\n",
       "       'feature13', 'feature858', 'feature351', 'feature853',\n",
       "       'feature863', 'feature10', 'feature11', 'feature15', 'feature347',\n",
       "       'feature859', 'feature868', 'feature20', 'feature21', 'feature29',\n",
       "       'feature32', 'feature30', 'feature34', 'feature536', 'feature39',\n",
       "       'feature40', 'feature576', 'feature577', 'feature42', 'feature362',\n",
       "       'feature363', 'feature364', 'feature365', 'feature50', 'feature51',\n",
       "       'feature372', 'feature373', 'feature376', 'feature377',\n",
       "       'feature380', 'feature381', 'feature382', 'feature383',\n",
       "       'feature394', 'feature397', 'feature399', 'feature131',\n",
       "       'feature403', 'feature483', 'feature408', 'feature409',\n",
       "       'feature410', 'feature132', 'feature411', 'feature484',\n",
       "       'feature412', 'feature413', 'feature414', 'feature415',\n",
       "       'feature416', 'feature417', 'feature418', 'feature419',\n",
       "       'feature420', 'feature421', 'feature422', 'feature423',\n",
       "       'feature424', 'feature425', 'feature90', 'feature430',\n",
       "       'feature433', 'feature313', 'feature439', 'feature442',\n",
       "       'feature447', 'feature456', 'feature457', 'feature458',\n",
       "       'feature460', 'feature462', 'feature126', 'feature471',\n",
       "       'feature473', 'feature480', 'feature130', 'feature134',\n",
       "       'feature485', 'feature492', 'feature498', 'feature510',\n",
       "       'feature514', 'feature519', 'feature520', 'feature521',\n",
       "       'feature522', 'feature523', 'feature524', 'feature314',\n",
       "       'feature549', 'feature550', 'feature552', 'feature555',\n",
       "       'feature556', 'feature557', 'feature558', 'feature207',\n",
       "       'feature211', 'feature213', 'feature219', 'feature221',\n",
       "       'feature569', 'feature223', 'feature228', 'feature230',\n",
       "       'feature235', 'feature236', 'feature237', 'feature238',\n",
       "       'feature239', 'feature240', 'feature241', 'feature252',\n",
       "       'feature579', 'feature580', 'feature581', 'feature582',\n",
       "       'feature583', 'feature584', 'feature585', 'feature586',\n",
       "       'feature250', 'feature251', 'feature254', 'feature592',\n",
       "       'feature593', 'feature245', 'feature246', 'feature247',\n",
       "       'feature248', 'feature249', 'feature598', 'feature257',\n",
       "       'feature261', 'feature591', 'feature256', 'feature594',\n",
       "       'feature595', 'feature596', 'feature267', 'feature270',\n",
       "       'feature605', 'feature606', 'feature613', 'feature614',\n",
       "       'feature271', 'feature607', 'feature615', 'feature266',\n",
       "       'feature618', 'feature722', 'feature821', 'feature823',\n",
       "       'feature621', 'feature725', 'feature825', 'feature827',\n",
       "       'feature624', 'feature728', 'feature830', 'feature832',\n",
       "       'feature627', 'feature731', 'feature833', 'feature835',\n",
       "       'feature630', 'feature734', 'feature837', 'feature839',\n",
       "       'feature633', 'feature737', 'feature841', 'feature843',\n",
       "       'feature636', 'feature740', 'feature845', 'feature847',\n",
       "       'feature639', 'feature743', 'feature849', 'feature851',\n",
       "       'feature745', 'feature396', 'feature746', 'feature747',\n",
       "       'feature752', 'feature764', 'feature766', 'feature767',\n",
       "       'feature768', 'feature769', 'feature770', 'feature771',\n",
       "       'feature772', 'feature773', 'feature776', 'feature778',\n",
       "       'feature779', 'feature780', 'feature781', 'feature784',\n",
       "       'feature390', 'feature348', 'feature860', 'feature319',\n",
       "       'feature896', 'feature909', 'feature323', 'feature911',\n",
       "       'feature326', 'feature327', 'feature797', 'feature798',\n",
       "       'feature902', 'feature903', 'feature904', 'feature905',\n",
       "       'feature329', 'feature822', 'feature824', 'feature826',\n",
       "       'feature828', 'feature333', 'feature834', 'feature836',\n",
       "       'feature838', 'feature840', 'feature337', 'feature846',\n",
       "       'feature848', 'feature850', 'feature852', 'feature913',\n",
       "       'feature912', 'feature924', 'feature929', 'feature931',\n",
       "       'feature914', 'feature926', 'feature915', 'feature864',\n",
       "       'feature865', 'feature463', 'feature866', 'feature464',\n",
       "       'feature867', 'feature899', 'feature906', 'feature900',\n",
       "       'feature907', 'feature901', 'feature908', 'feature374',\n",
       "       'feature375', 'feature645', 'feature402', 'feature479',\n",
       "       'feature486', 'feature673', 'feature674', 'feature573',\n",
       "       'feature657', 'feature560', 'feature590', 'feature601',\n",
       "       'feature604', 'feature696', 'feature609', 'feature612',\n",
       "       'feature679', 'feature803', 'feature804', 'feature757',\n",
       "       'feature932', 'feature717', 'feature718', 'feature724',\n",
       "       'feature730', 'feature736', 'feature739', 'feature789',\n",
       "       'feature921', 'feature925', 'feature923', 'feature927',\n",
       "       'feature813', 'feature831', 'feature844', 'feature877',\n",
       "       'feature879', 'feature881', 'feature882', 'feature883',\n",
       "       'feature985', 'feature995', 'feature1044', 'feature1058',\n",
       "       'feature1039', 'feature1040', 'feature1041', 'feature1046',\n",
       "       'feature1047', 'feature1048', 'feature1060', 'feature1061',\n",
       "       'feature1062', 'feature1070', 'feature1071', 'feature1072',\n",
       "       'feature1073', 'feature1074', 'feature1075'], dtype=object)"
      ]
     },
     "execution_count": 20,
     "metadata": {},
     "output_type": "execute_result"
    }
   ],
   "source": [
    "features_correlated = super_correlated.filter(\n",
    "    ~pl.col('feat1').is_in(super_correlated['feat2'].unique())\n",
    ")['feat2'].to_numpy()\n",
    "features_correlated"
   ]
  },
  {
   "cell_type": "code",
   "execution_count": 21,
   "id": "92ce89e9-1365-495f-9a51-2f636268ce7e",
   "metadata": {},
   "outputs": [
    {
     "name": "stdout",
     "output_type": "stream",
     "text": [
      "Data shape and size: (519615, 641) 2.478\n"
     ]
    }
   ],
   "source": [
    "data = data.drop(features_correlated)\n",
    "data_test = data_test.drop(features_correlated)\n",
    "print('Data shape and size:', data.shape, round(data.estimated_size('gb'), 3))"
   ]
  },
  {
   "cell_type": "markdown",
   "id": "e0ae05b9",
   "metadata": {},
   "source": [
    "## 5. Clip outliers"
   ]
  },
  {
   "cell_type": "code",
   "execution_count": 22,
   "id": "3c94c7af",
   "metadata": {},
   "outputs": [
    {
     "name": "stdout",
     "output_type": "stream",
     "text": [
      "259807.5\n"
     ]
    }
   ],
   "source": [
    "numeric_feature_threshold = data.shape[0] * 0.5\n",
    "print(numeric_feature_threshold)"
   ]
  },
  {
   "cell_type": "code",
   "execution_count": 23,
   "id": "8eb07a7e",
   "metadata": {},
   "outputs": [
    {
     "name": "stdout",
     "output_type": "stream",
     "text": [
      "Number of features to clip:  52\n"
     ]
    }
   ],
   "source": [
    "features_like_numeric = [col for col in data.columns if (data[col].n_unique() > numeric_feature_threshold)]\n",
    "print('Number of features to clip: ', len(features_like_numeric))"
   ]
  },
  {
   "cell_type": "code",
   "execution_count": 24,
   "id": "69180ba0",
   "metadata": {},
   "outputs": [],
   "source": [
    "for feat in features_like_numeric: \n",
    "    low, upp = data[feat].quantile(0.01), data[feat].quantile(0.99)\n",
    "\n",
    "    data = data.with_columns(\n",
    "        pl.col(feat).clip(lower_bound=low, upper_bound=upp)\n",
    "    )\n",
    "    data_test = data_test.with_columns(\n",
    "        pl.col(feat).clip(lower_bound=low, upper_bound=upp)\n",
    "    )"
   ]
  },
  {
   "cell_type": "markdown",
   "id": "4122c877",
   "metadata": {},
   "source": [
    "## 6. Fix formats"
   ]
  },
  {
   "cell_type": "code",
   "execution_count": 25,
   "id": "9f538654",
   "metadata": {},
   "outputs": [
    {
     "name": "stdout",
     "output_type": "stream",
     "text": [
      "Size before format change: 2.478\n",
      "Size after format change: 0.659\n"
     ]
    }
   ],
   "source": [
    "print('Size before format change:', round(data.estimated_size('gb'), 3))\n",
    "\n",
    "for name in data.select(cs.by_dtype(pl.INTEGER_DTYPES)).columns:\n",
    "    try:\n",
    "        data = data.with_columns(\n",
    "            pl.col(name).cast(pl.Int8)\n",
    "        )\n",
    "        continue\n",
    "    except Exception as e:\n",
    "        pass\n",
    "\n",
    "    try:\n",
    "        data = data.with_columns(\n",
    "            pl.col(name).cast(pl.Int16)\n",
    "        )\n",
    "        continue\n",
    "    except Exception as e:\n",
    "        pass\n",
    "\n",
    "    try:\n",
    "        data = data.with_columns(\n",
    "            pl.col(name).cast(pl.Int32)\n",
    "        )\n",
    "        continue\n",
    "    except Exception as e:\n",
    "        pass\n",
    "\n",
    "print('Size after format change:', round(data.estimated_size('gb'), 3))"
   ]
  },
  {
   "cell_type": "code",
   "execution_count": 26,
   "id": "0bde0d20-265c-47cd-bdb0-fac1ea7f0b6f",
   "metadata": {},
   "outputs": [
    {
     "data": {
      "text/html": [
       "<div><style>\n",
       ".dataframe > thead > tr,\n",
       ".dataframe > tbody > tr {\n",
       "  text-align: right;\n",
       "  white-space: pre-wrap;\n",
       "}\n",
       "</style>\n",
       "<small>shape: (0, 0)</small><table border=\"1\" class=\"dataframe\"><thead><tr></tr><tr></tr></thead><tbody></tbody></table></div>"
      ],
      "text/plain": [
       "shape: (0, 0)\n",
       "┌┐\n",
       "╞╡\n",
       "└┘"
      ]
     },
     "execution_count": 26,
     "metadata": {},
     "output_type": "execute_result"
    }
   ],
   "source": [
    "data.select(cs.by_dtype(pl.FLOAT_DTYPES))"
   ]
  },
  {
   "cell_type": "code",
   "execution_count": 27,
   "id": "1e976a49",
   "metadata": {},
   "outputs": [
    {
     "data": {
      "text/plain": [
       "(array(['Int16', 'Int32', 'Int8'], dtype='<U5'), array([259, 154, 228]))"
      ]
     },
     "execution_count": 27,
     "metadata": {},
     "output_type": "execute_result"
    }
   ],
   "source": [
    "column_types = data.dtypes\n",
    "column_types = [str(x) for x in column_types]\n",
    "\n",
    "np.unique(column_types, return_counts=True)"
   ]
  },
  {
   "cell_type": "markdown",
   "id": "b25fd52b-dd27-401c-8515-05bd21bc9bf4",
   "metadata": {},
   "source": [
    "check format change for x+y feature"
   ]
  },
  {
   "cell_type": "code",
   "execution_count": 28,
   "id": "77e7f9db",
   "metadata": {},
   "outputs": [
    {
     "data": {
      "text/html": [
       "<div><style>\n",
       ".dataframe > thead > tr,\n",
       ".dataframe > tbody > tr {\n",
       "  text-align: right;\n",
       "  white-space: pre-wrap;\n",
       "}\n",
       "</style>\n",
       "<small>shape: (3, 641)</small><table border=\"1\" class=\"dataframe\"><thead><tr><th>target</th><th>feature1</th><th>feature2</th><th>feature3</th><th>feature4</th><th>feature5</th><th>feature6</th><th>feature7</th><th>feature8</th><th>feature9</th><th>feature12</th><th>feature14</th><th>feature16</th><th>feature17</th><th>feature18</th><th>feature19</th><th>feature22</th><th>feature24</th><th>feature25</th><th>feature31</th><th>feature33</th><th>feature35</th><th>feature36</th><th>feature37</th><th>feature38</th><th>feature41</th><th>feature43</th><th>feature44</th><th>feature45</th><th>feature46</th><th>feature47</th><th>feature48</th><th>feature49</th><th>feature52</th><th>feature53</th><th>feature54</th><th>feature55</th><th>&hellip;</th><th>feature992</th><th>feature993</th><th>feature994</th><th>feature996</th><th>feature997</th><th>feature998</th><th>feature999</th><th>feature1000</th><th>feature1001</th><th>feature1002</th><th>feature1003</th><th>feature1004</th><th>feature1035</th><th>feature1036</th><th>feature1037</th><th>feature1038</th><th>feature1042</th><th>feature1043</th><th>feature1045</th><th>feature1049</th><th>feature1050</th><th>feature1051</th><th>feature1052</th><th>feature1053</th><th>feature1054</th><th>feature1055</th><th>feature1056</th><th>feature1057</th><th>feature1059</th><th>feature1063</th><th>feature1064</th><th>feature1065</th><th>feature1066</th><th>feature1067</th><th>feature1068</th><th>feature1069</th><th>feature1076</th></tr><tr><td>i8</td><td>i16</td><td>i16</td><td>i16</td><td>i32</td><td>i16</td><td>i16</td><td>i8</td><td>i16</td><td>i16</td><td>i16</td><td>i16</td><td>i16</td><td>i16</td><td>i8</td><td>i16</td><td>i32</td><td>i16</td><td>i16</td><td>i16</td><td>i32</td><td>i32</td><td>i16</td><td>i32</td><td>i16</td><td>i16</td><td>i32</td><td>i16</td><td>i16</td><td>i32</td><td>i32</td><td>i16</td><td>i16</td><td>i16</td><td>i16</td><td>i32</td><td>i32</td><td>&hellip;</td><td>i16</td><td>i16</td><td>i16</td><td>i8</td><td>i8</td><td>i8</td><td>i8</td><td>i8</td><td>i8</td><td>i16</td><td>i16</td><td>i16</td><td>i32</td><td>i32</td><td>i16</td><td>i32</td><td>i16</td><td>i16</td><td>i16</td><td>i16</td><td>i16</td><td>i16</td><td>i16</td><td>i16</td><td>i16</td><td>i16</td><td>i16</td><td>i16</td><td>i32</td><td>i32</td><td>i32</td><td>i32</td><td>i32</td><td>i32</td><td>i32</td><td>i32</td><td>i32</td></tr></thead><tbody><tr><td>0</td><td>1761</td><td>1759</td><td>85</td><td>105469</td><td>191</td><td>46</td><td>0</td><td>6</td><td>95</td><td>20</td><td>1</td><td>50</td><td>60</td><td>7</td><td>248</td><td>91601</td><td>173</td><td>1722</td><td>633</td><td>50524</td><td>16130</td><td>3652</td><td>85495</td><td>14172</td><td>7705</td><td>19131</td><td>6511</td><td>12018</td><td>31287</td><td>27091</td><td>0</td><td>0</td><td>0</td><td>0</td><td>30270</td><td>27157</td><td>&hellip;</td><td>5</td><td>8</td><td>16</td><td>1</td><td>0</td><td>0</td><td>2</td><td>1</td><td>2</td><td>3</td><td>6</td><td>14</td><td>0</td><td>0</td><td>0</td><td>0</td><td>0</td><td>0</td><td>0</td><td>0</td><td>0</td><td>0</td><td>0</td><td>0</td><td>0</td><td>0</td><td>0</td><td>0</td><td>0</td><td>12045</td><td>12107</td><td>12510</td><td>21126</td><td>28913</td><td>48985</td><td>84264</td><td>84264</td></tr><tr><td>0</td><td>1761</td><td>1759</td><td>120</td><td>105610</td><td>144</td><td>71</td><td>0</td><td>135</td><td>135</td><td>187</td><td>1</td><td>43</td><td>101</td><td>11</td><td>18</td><td>36890</td><td>184</td><td>1722</td><td>633</td><td>50524</td><td>18999</td><td>3652</td><td>85495</td><td>14172</td><td>7705</td><td>59900</td><td>6511</td><td>12018</td><td>116284</td><td>141739</td><td>0</td><td>0</td><td>0</td><td>0</td><td>112320</td><td>138924</td><td>&hellip;</td><td>4</td><td>10</td><td>22</td><td>0</td><td>0</td><td>0</td><td>3</td><td>0</td><td>2</td><td>3</td><td>9</td><td>22</td><td>0</td><td>0</td><td>0</td><td>0</td><td>0</td><td>0</td><td>0</td><td>0</td><td>0</td><td>0</td><td>0</td><td>0</td><td>0</td><td>0</td><td>0</td><td>0</td><td>0</td><td>0</td><td>0</td><td>0</td><td>0</td><td>0</td><td>0</td><td>0</td><td>0</td></tr><tr><td>0</td><td>890</td><td>1759</td><td>141</td><td>105227</td><td>191</td><td>11</td><td>0</td><td>0</td><td>0</td><td>187</td><td>1</td><td>0</td><td>0</td><td>28</td><td>248</td><td>140184</td><td>248</td><td>1722</td><td>633</td><td>50524</td><td>65748</td><td>3652</td><td>85495</td><td>14172</td><td>7705</td><td>11110</td><td>6511</td><td>12018</td><td>261217</td><td>284839</td><td>0</td><td>0</td><td>0</td><td>0</td><td>252909</td><td>278364</td><td>&hellip;</td><td>9</td><td>24</td><td>40</td><td>1</td><td>1</td><td>2</td><td>3</td><td>3</td><td>5</td><td>8</td><td>23</td><td>40</td><td>0</td><td>0</td><td>0</td><td>0</td><td>0</td><td>0</td><td>0</td><td>0</td><td>0</td><td>0</td><td>0</td><td>0</td><td>0</td><td>0</td><td>0</td><td>0</td><td>0</td><td>33735</td><td>31242</td><td>12691</td><td>48682</td><td>55949</td><td>70006</td><td>113317</td><td>113317</td></tr></tbody></table></div>"
      ],
      "text/plain": [
       "shape: (3, 641)\n",
       "┌────────┬──────────┬──────────┬──────────┬───┬─────────────┬────────────┬────────────┬────────────┐\n",
       "│ target ┆ feature1 ┆ feature2 ┆ feature3 ┆ … ┆ feature1067 ┆ feature106 ┆ feature106 ┆ feature107 │\n",
       "│ ---    ┆ ---      ┆ ---      ┆ ---      ┆   ┆ ---         ┆ 8          ┆ 9          ┆ 6          │\n",
       "│ i8     ┆ i16      ┆ i16      ┆ i16      ┆   ┆ i32         ┆ ---        ┆ ---        ┆ ---        │\n",
       "│        ┆          ┆          ┆          ┆   ┆             ┆ i32        ┆ i32        ┆ i32        │\n",
       "╞════════╪══════════╪══════════╪══════════╪═══╪═════════════╪════════════╪════════════╪════════════╡\n",
       "│ 0      ┆ 1761     ┆ 1759     ┆ 85       ┆ … ┆ 28913       ┆ 48985      ┆ 84264      ┆ 84264      │\n",
       "│ 0      ┆ 1761     ┆ 1759     ┆ 120      ┆ … ┆ 0           ┆ 0          ┆ 0          ┆ 0          │\n",
       "│ 0      ┆ 890      ┆ 1759     ┆ 141      ┆ … ┆ 55949       ┆ 70006      ┆ 113317     ┆ 113317     │\n",
       "└────────┴──────────┴──────────┴──────────┴───┴─────────────┴────────────┴────────────┴────────────┘"
      ]
     },
     "execution_count": 28,
     "metadata": {},
     "output_type": "execute_result"
    }
   ],
   "source": [
    "data.head(3)"
   ]
  },
  {
   "cell_type": "code",
   "execution_count": 29,
   "id": "0fbf52c8",
   "metadata": {},
   "outputs": [
    {
     "data": {
      "text/html": [
       "<div><style>\n",
       ".dataframe > thead > tr,\n",
       ".dataframe > tbody > tr {\n",
       "  text-align: right;\n",
       "  white-space: pre-wrap;\n",
       "}\n",
       "</style>\n",
       "<small>shape: (3,)</small><table border=\"1\" class=\"dataframe\"><thead><tr><th>feature4</th></tr><tr><td>i32</td></tr></thead><tbody><tr><td>105475</td></tr><tr><td>105745</td></tr><tr><td>105227</td></tr></tbody></table></div>"
      ],
      "text/plain": [
       "shape: (3,)\n",
       "Series: 'feature4' [i32]\n",
       "[\n",
       "\t105475\n",
       "\t105745\n",
       "\t105227\n",
       "]"
      ]
     },
     "execution_count": 29,
     "metadata": {},
     "output_type": "execute_result"
    }
   ],
   "source": [
    "(data['feature4'] + data['feature8']).head(3)"
   ]
  },
  {
   "cell_type": "markdown",
   "id": "c2b66de1",
   "metadata": {},
   "source": [
    "## 7. Saving the data"
   ]
  },
  {
   "cell_type": "code",
   "execution_count": 30,
   "id": "5d7fdcdf",
   "metadata": {},
   "outputs": [],
   "source": [
    "data.write_parquet(DATA_PATH + 'data_cleaned.parquet')\n",
    "data_test.write_parquet(DATA_PATH + 'data_test_cleaned.parquet')"
   ]
  },
  {
   "cell_type": "markdown",
   "id": "39155192-8d0d-4e1c-963c-bfd96e6ee032",
   "metadata": {},
   "source": [
    "---"
   ]
  },
  {
   "cell_type": "markdown",
   "id": "b4d2e4bf",
   "metadata": {},
   "source": [
    "## Bonus: boostings baselines"
   ]
  },
  {
   "cell_type": "code",
   "execution_count": 31,
   "id": "6a9a1045",
   "metadata": {},
   "outputs": [],
   "source": [
    "from sklearn.model_selection import train_test_split\n",
    "\n",
    "from catboost import CatBoostClassifier\n",
    "from lightgbm import LGBMClassifier\n",
    "from xgboost import XGBClassifier\n",
    "\n",
    "import matplotlib.pyplot as plt\n",
    "from sklearn.metrics import precision_recall_fscore_support, roc_auc_score, classification_report"
   ]
  },
  {
   "cell_type": "code",
   "execution_count": 32,
   "id": "46f1d276",
   "metadata": {},
   "outputs": [
    {
     "data": {
      "text/html": [
       "<div><style>\n",
       ".dataframe > thead > tr,\n",
       ".dataframe > tbody > tr {\n",
       "  text-align: right;\n",
       "  white-space: pre-wrap;\n",
       "}\n",
       "</style>\n",
       "<small>shape: (2,)</small><table border=\"1\" class=\"dataframe\"><thead><tr><th>target</th></tr><tr><td>u32</td></tr></thead><tbody><tr><td>501078</td></tr><tr><td>18537</td></tr></tbody></table></div>"
      ],
      "text/plain": [
       "shape: (2,)\n",
       "Series: 'target' [u32]\n",
       "[\n",
       "\t501078\n",
       "\t18537\n",
       "]"
      ]
     },
     "execution_count": 32,
     "metadata": {},
     "output_type": "execute_result"
    }
   ],
   "source": [
    "data['target'].unique_counts()"
   ]
  },
  {
   "cell_type": "code",
   "execution_count": 33,
   "id": "5bcfc7e5-7f0a-49da-a0ef-ec663ecbdb1c",
   "metadata": {},
   "outputs": [
    {
     "data": {
      "text/plain": [
       "0         0\n",
       "1         0\n",
       "2         0\n",
       "3         0\n",
       "4         0\n",
       "         ..\n",
       "519610    0\n",
       "519611    0\n",
       "519612    0\n",
       "519613    0\n",
       "519614    1\n",
       "Name: target, Length: 519615, dtype: int8"
      ]
     },
     "execution_count": 33,
     "metadata": {},
     "output_type": "execute_result"
    }
   ],
   "source": [
    "data['target'].to_pandas()"
   ]
  },
  {
   "cell_type": "code",
   "execution_count": 34,
   "id": "c80776db",
   "metadata": {},
   "outputs": [
    {
     "data": {
      "text/plain": [
       "((389711, 640), (129904, 640), (389711,), (129904,))"
      ]
     },
     "execution_count": 34,
     "metadata": {},
     "output_type": "execute_result"
    }
   ],
   "source": [
    "X_train, X_test, y_train, y_test = train_test_split(\n",
    "    data.drop('target').to_pandas(), data['target'].to_pandas().values, test_size=0.25, random_state=42, stratify=data['target'].to_pandas()\n",
    ")\n",
    "X_train.shape, X_test.shape, y_train.shape, y_test.shape"
   ]
  },
  {
   "cell_type": "code",
   "execution_count": 35,
   "id": "2aecf98c-52a2-45fa-9cbf-d140d7ac78a1",
   "metadata": {},
   "outputs": [
    {
     "name": "stdout",
     "output_type": "stream",
     "text": [
      "CPU times: user 14min 16s, sys: 7.7 s, total: 14min 24s\n",
      "Wall time: 2min 16s\n"
     ]
    },
    {
     "data": {
      "text/plain": [
       "<catboost.core.CatBoostClassifier at 0x291e37c50>"
      ]
     },
     "execution_count": 35,
     "metadata": {},
     "output_type": "execute_result"
    }
   ],
   "source": [
    "%%time\n",
    "\n",
    "model = CatBoostClassifier(allow_writing_files=False, verbose=False)\n",
    "model.fit(X_train, y_train)"
   ]
  },
  {
   "cell_type": "code",
   "execution_count": 36,
   "id": "8715f601-0ead-446f-a3cc-57cb3ec5e19d",
   "metadata": {},
   "outputs": [
    {
     "name": "stdout",
     "output_type": "stream",
     "text": [
      "              precision    recall  f1-score   support\n",
      "\n",
      "           0       0.98      0.73      0.84    125270\n",
      "           1       0.08      0.65      0.15      4634\n",
      "\n",
      "    accuracy                           0.73    129904\n",
      "   macro avg       0.53      0.69      0.49    129904\n",
      "weighted avg       0.95      0.73      0.81    129904\n",
      "\n",
      "ROC-AUC: 0.757\n",
      "CPU times: user 691 ms, sys: 27.1 ms, total: 718 ms\n",
      "Wall time: 223 ms\n"
     ]
    }
   ],
   "source": [
    "%%time\n",
    "\n",
    "y_pred = model.predict_proba(X_test)[:, 1]\n",
    "\n",
    "print(classification_report(y_test, (y_pred > round(y_train.mean(), 3)).astype(int)))\n",
    "print(f'ROC-AUC: {roc_auc_score(y_test, y_pred):.3f}')\n",
    "# ROC-AUC: 0.757"
   ]
  },
  {
   "cell_type": "code",
   "execution_count": 37,
   "id": "8413fb5e-6e1e-41b0-b82a-34fd457bcb9e",
   "metadata": {},
   "outputs": [
    {
     "name": "stdout",
     "output_type": "stream",
     "text": [
      "[LightGBM] [Info] Number of positive: 13903, number of negative: 375808\n",
      "[LightGBM] [Info] Auto-choosing row-wise multi-threading, the overhead of testing was 0.253628 seconds.\n",
      "You can set `force_row_wise=true` to remove the overhead.\n",
      "And if memory is not enough, you can set `force_col_wise=true`.\n",
      "[LightGBM] [Info] Total Bins 100248\n",
      "[LightGBM] [Info] Number of data points in the train set: 389711, number of used features: 640\n",
      "[LightGBM] [Info] [binary:BoostFromScore]: pavg=0.035675 -> initscore=-3.296974\n",
      "[LightGBM] [Info] Start training from score -3.296974\n",
      "CPU times: user 46.4 s, sys: 2.32 s, total: 48.8 s\n",
      "Wall time: 11.6 s\n"
     ]
    },
    {
     "data": {
      "text/html": [
       "<style>#sk-container-id-1 {color: black;}#sk-container-id-1 pre{padding: 0;}#sk-container-id-1 div.sk-toggleable {background-color: white;}#sk-container-id-1 label.sk-toggleable__label {cursor: pointer;display: block;width: 100%;margin-bottom: 0;padding: 0.3em;box-sizing: border-box;text-align: center;}#sk-container-id-1 label.sk-toggleable__label-arrow:before {content: \"▸\";float: left;margin-right: 0.25em;color: #696969;}#sk-container-id-1 label.sk-toggleable__label-arrow:hover:before {color: black;}#sk-container-id-1 div.sk-estimator:hover label.sk-toggleable__label-arrow:before {color: black;}#sk-container-id-1 div.sk-toggleable__content {max-height: 0;max-width: 0;overflow: hidden;text-align: left;background-color: #f0f8ff;}#sk-container-id-1 div.sk-toggleable__content pre {margin: 0.2em;color: black;border-radius: 0.25em;background-color: #f0f8ff;}#sk-container-id-1 input.sk-toggleable__control:checked~div.sk-toggleable__content {max-height: 200px;max-width: 100%;overflow: auto;}#sk-container-id-1 input.sk-toggleable__control:checked~label.sk-toggleable__label-arrow:before {content: \"▾\";}#sk-container-id-1 div.sk-estimator input.sk-toggleable__control:checked~label.sk-toggleable__label {background-color: #d4ebff;}#sk-container-id-1 div.sk-label input.sk-toggleable__control:checked~label.sk-toggleable__label {background-color: #d4ebff;}#sk-container-id-1 input.sk-hidden--visually {border: 0;clip: rect(1px 1px 1px 1px);clip: rect(1px, 1px, 1px, 1px);height: 1px;margin: -1px;overflow: hidden;padding: 0;position: absolute;width: 1px;}#sk-container-id-1 div.sk-estimator {font-family: monospace;background-color: #f0f8ff;border: 1px dotted black;border-radius: 0.25em;box-sizing: border-box;margin-bottom: 0.5em;}#sk-container-id-1 div.sk-estimator:hover {background-color: #d4ebff;}#sk-container-id-1 div.sk-parallel-item::after {content: \"\";width: 100%;border-bottom: 1px solid gray;flex-grow: 1;}#sk-container-id-1 div.sk-label:hover label.sk-toggleable__label {background-color: #d4ebff;}#sk-container-id-1 div.sk-serial::before {content: \"\";position: absolute;border-left: 1px solid gray;box-sizing: border-box;top: 0;bottom: 0;left: 50%;z-index: 0;}#sk-container-id-1 div.sk-serial {display: flex;flex-direction: column;align-items: center;background-color: white;padding-right: 0.2em;padding-left: 0.2em;position: relative;}#sk-container-id-1 div.sk-item {position: relative;z-index: 1;}#sk-container-id-1 div.sk-parallel {display: flex;align-items: stretch;justify-content: center;background-color: white;position: relative;}#sk-container-id-1 div.sk-item::before, #sk-container-id-1 div.sk-parallel-item::before {content: \"\";position: absolute;border-left: 1px solid gray;box-sizing: border-box;top: 0;bottom: 0;left: 50%;z-index: -1;}#sk-container-id-1 div.sk-parallel-item {display: flex;flex-direction: column;z-index: 1;position: relative;background-color: white;}#sk-container-id-1 div.sk-parallel-item:first-child::after {align-self: flex-end;width: 50%;}#sk-container-id-1 div.sk-parallel-item:last-child::after {align-self: flex-start;width: 50%;}#sk-container-id-1 div.sk-parallel-item:only-child::after {width: 0;}#sk-container-id-1 div.sk-dashed-wrapped {border: 1px dashed gray;margin: 0 0.4em 0.5em 0.4em;box-sizing: border-box;padding-bottom: 0.4em;background-color: white;}#sk-container-id-1 div.sk-label label {font-family: monospace;font-weight: bold;display: inline-block;line-height: 1.2em;}#sk-container-id-1 div.sk-label-container {text-align: center;}#sk-container-id-1 div.sk-container {/* jupyter's `normalize.less` sets `[hidden] { display: none; }` but bootstrap.min.css set `[hidden] { display: none !important; }` so we also need the `!important` here to be able to override the default hidden behavior on the sphinx rendered scikit-learn.org. See: https://github.com/scikit-learn/scikit-learn/issues/21755 */display: inline-block !important;position: relative;}#sk-container-id-1 div.sk-text-repr-fallback {display: none;}</style><div id=\"sk-container-id-1\" class=\"sk-top-container\"><div class=\"sk-text-repr-fallback\"><pre>LGBMClassifier()</pre><b>In a Jupyter environment, please rerun this cell to show the HTML representation or trust the notebook. <br />On GitHub, the HTML representation is unable to render, please try loading this page with nbviewer.org.</b></div><div class=\"sk-container\" hidden><div class=\"sk-item\"><div class=\"sk-estimator sk-toggleable\"><input class=\"sk-toggleable__control sk-hidden--visually\" id=\"sk-estimator-id-1\" type=\"checkbox\" checked><label for=\"sk-estimator-id-1\" class=\"sk-toggleable__label sk-toggleable__label-arrow\">LGBMClassifier</label><div class=\"sk-toggleable__content\"><pre>LGBMClassifier()</pre></div></div></div></div></div>"
      ],
      "text/plain": [
       "LGBMClassifier()"
      ]
     },
     "execution_count": 37,
     "metadata": {},
     "output_type": "execute_result"
    }
   ],
   "source": [
    "%%time\n",
    "\n",
    "model = LGBMClassifier()\n",
    "model.fit(X_train, y_train)"
   ]
  },
  {
   "cell_type": "code",
   "execution_count": 38,
   "id": "d502b91f-92f0-49f8-8973-3ba848eab3b5",
   "metadata": {},
   "outputs": [
    {
     "name": "stdout",
     "output_type": "stream",
     "text": [
      "              precision    recall  f1-score   support\n",
      "\n",
      "           0       0.98      0.72      0.83    125270\n",
      "           1       0.08      0.65      0.14      4634\n",
      "\n",
      "    accuracy                           0.72    129904\n",
      "   macro avg       0.53      0.69      0.49    129904\n",
      "weighted avg       0.95      0.72      0.81    129904\n",
      "\n",
      "ROC-AUC: 0.755\n",
      "CPU times: user 1.23 s, sys: 148 ms, total: 1.38 s\n",
      "Wall time: 524 ms\n"
     ]
    }
   ],
   "source": [
    "%%time\n",
    "\n",
    "y_pred = model.predict_proba(X_test)[:, 1]\n",
    "\n",
    "print(classification_report(y_test, (y_pred > round(y_train.mean(), 3)).astype(int)))\n",
    "print(f'ROC-AUC: {roc_auc_score(y_test, y_pred):.3f}')\n",
    "# ROC-AUC: 0.757"
   ]
  },
  {
   "cell_type": "code",
   "execution_count": 39,
   "id": "e90dd497",
   "metadata": {},
   "outputs": [
    {
     "name": "stdout",
     "output_type": "stream",
     "text": [
      "CPU times: user 1min 5s, sys: 10.1 s, total: 1min 16s\n",
      "Wall time: 11.9 s\n"
     ]
    },
    {
     "data": {
      "text/html": [
       "<style>#sk-container-id-2 {color: black;}#sk-container-id-2 pre{padding: 0;}#sk-container-id-2 div.sk-toggleable {background-color: white;}#sk-container-id-2 label.sk-toggleable__label {cursor: pointer;display: block;width: 100%;margin-bottom: 0;padding: 0.3em;box-sizing: border-box;text-align: center;}#sk-container-id-2 label.sk-toggleable__label-arrow:before {content: \"▸\";float: left;margin-right: 0.25em;color: #696969;}#sk-container-id-2 label.sk-toggleable__label-arrow:hover:before {color: black;}#sk-container-id-2 div.sk-estimator:hover label.sk-toggleable__label-arrow:before {color: black;}#sk-container-id-2 div.sk-toggleable__content {max-height: 0;max-width: 0;overflow: hidden;text-align: left;background-color: #f0f8ff;}#sk-container-id-2 div.sk-toggleable__content pre {margin: 0.2em;color: black;border-radius: 0.25em;background-color: #f0f8ff;}#sk-container-id-2 input.sk-toggleable__control:checked~div.sk-toggleable__content {max-height: 200px;max-width: 100%;overflow: auto;}#sk-container-id-2 input.sk-toggleable__control:checked~label.sk-toggleable__label-arrow:before {content: \"▾\";}#sk-container-id-2 div.sk-estimator input.sk-toggleable__control:checked~label.sk-toggleable__label {background-color: #d4ebff;}#sk-container-id-2 div.sk-label input.sk-toggleable__control:checked~label.sk-toggleable__label {background-color: #d4ebff;}#sk-container-id-2 input.sk-hidden--visually {border: 0;clip: rect(1px 1px 1px 1px);clip: rect(1px, 1px, 1px, 1px);height: 1px;margin: -1px;overflow: hidden;padding: 0;position: absolute;width: 1px;}#sk-container-id-2 div.sk-estimator {font-family: monospace;background-color: #f0f8ff;border: 1px dotted black;border-radius: 0.25em;box-sizing: border-box;margin-bottom: 0.5em;}#sk-container-id-2 div.sk-estimator:hover {background-color: #d4ebff;}#sk-container-id-2 div.sk-parallel-item::after {content: \"\";width: 100%;border-bottom: 1px solid gray;flex-grow: 1;}#sk-container-id-2 div.sk-label:hover label.sk-toggleable__label {background-color: #d4ebff;}#sk-container-id-2 div.sk-serial::before {content: \"\";position: absolute;border-left: 1px solid gray;box-sizing: border-box;top: 0;bottom: 0;left: 50%;z-index: 0;}#sk-container-id-2 div.sk-serial {display: flex;flex-direction: column;align-items: center;background-color: white;padding-right: 0.2em;padding-left: 0.2em;position: relative;}#sk-container-id-2 div.sk-item {position: relative;z-index: 1;}#sk-container-id-2 div.sk-parallel {display: flex;align-items: stretch;justify-content: center;background-color: white;position: relative;}#sk-container-id-2 div.sk-item::before, #sk-container-id-2 div.sk-parallel-item::before {content: \"\";position: absolute;border-left: 1px solid gray;box-sizing: border-box;top: 0;bottom: 0;left: 50%;z-index: -1;}#sk-container-id-2 div.sk-parallel-item {display: flex;flex-direction: column;z-index: 1;position: relative;background-color: white;}#sk-container-id-2 div.sk-parallel-item:first-child::after {align-self: flex-end;width: 50%;}#sk-container-id-2 div.sk-parallel-item:last-child::after {align-self: flex-start;width: 50%;}#sk-container-id-2 div.sk-parallel-item:only-child::after {width: 0;}#sk-container-id-2 div.sk-dashed-wrapped {border: 1px dashed gray;margin: 0 0.4em 0.5em 0.4em;box-sizing: border-box;padding-bottom: 0.4em;background-color: white;}#sk-container-id-2 div.sk-label label {font-family: monospace;font-weight: bold;display: inline-block;line-height: 1.2em;}#sk-container-id-2 div.sk-label-container {text-align: center;}#sk-container-id-2 div.sk-container {/* jupyter's `normalize.less` sets `[hidden] { display: none; }` but bootstrap.min.css set `[hidden] { display: none !important; }` so we also need the `!important` here to be able to override the default hidden behavior on the sphinx rendered scikit-learn.org. See: https://github.com/scikit-learn/scikit-learn/issues/21755 */display: inline-block !important;position: relative;}#sk-container-id-2 div.sk-text-repr-fallback {display: none;}</style><div id=\"sk-container-id-2\" class=\"sk-top-container\"><div class=\"sk-text-repr-fallback\"><pre>XGBClassifier(base_score=None, booster=None, callbacks=None,\n",
       "              colsample_bylevel=None, colsample_bynode=None,\n",
       "              colsample_bytree=None, device=None, early_stopping_rounds=None,\n",
       "              enable_categorical=False, eval_metric=None, feature_types=None,\n",
       "              gamma=None, grow_policy=None, importance_type=None,\n",
       "              interaction_constraints=None, learning_rate=None, max_bin=None,\n",
       "              max_cat_threshold=None, max_cat_to_onehot=None,\n",
       "              max_delta_step=None, max_depth=None, max_leaves=None,\n",
       "              min_child_weight=None, missing=nan, monotone_constraints=None,\n",
       "              multi_strategy=None, n_estimators=None, n_jobs=None,\n",
       "              num_parallel_tree=None, random_state=None, ...)</pre><b>In a Jupyter environment, please rerun this cell to show the HTML representation or trust the notebook. <br />On GitHub, the HTML representation is unable to render, please try loading this page with nbviewer.org.</b></div><div class=\"sk-container\" hidden><div class=\"sk-item\"><div class=\"sk-estimator sk-toggleable\"><input class=\"sk-toggleable__control sk-hidden--visually\" id=\"sk-estimator-id-2\" type=\"checkbox\" checked><label for=\"sk-estimator-id-2\" class=\"sk-toggleable__label sk-toggleable__label-arrow\">XGBClassifier</label><div class=\"sk-toggleable__content\"><pre>XGBClassifier(base_score=None, booster=None, callbacks=None,\n",
       "              colsample_bylevel=None, colsample_bynode=None,\n",
       "              colsample_bytree=None, device=None, early_stopping_rounds=None,\n",
       "              enable_categorical=False, eval_metric=None, feature_types=None,\n",
       "              gamma=None, grow_policy=None, importance_type=None,\n",
       "              interaction_constraints=None, learning_rate=None, max_bin=None,\n",
       "              max_cat_threshold=None, max_cat_to_onehot=None,\n",
       "              max_delta_step=None, max_depth=None, max_leaves=None,\n",
       "              min_child_weight=None, missing=nan, monotone_constraints=None,\n",
       "              multi_strategy=None, n_estimators=None, n_jobs=None,\n",
       "              num_parallel_tree=None, random_state=None, ...)</pre></div></div></div></div></div>"
      ],
      "text/plain": [
       "XGBClassifier(base_score=None, booster=None, callbacks=None,\n",
       "              colsample_bylevel=None, colsample_bynode=None,\n",
       "              colsample_bytree=None, device=None, early_stopping_rounds=None,\n",
       "              enable_categorical=False, eval_metric=None, feature_types=None,\n",
       "              gamma=None, grow_policy=None, importance_type=None,\n",
       "              interaction_constraints=None, learning_rate=None, max_bin=None,\n",
       "              max_cat_threshold=None, max_cat_to_onehot=None,\n",
       "              max_delta_step=None, max_depth=None, max_leaves=None,\n",
       "              min_child_weight=None, missing=nan, monotone_constraints=None,\n",
       "              multi_strategy=None, n_estimators=None, n_jobs=None,\n",
       "              num_parallel_tree=None, random_state=None, ...)"
      ]
     },
     "execution_count": 39,
     "metadata": {},
     "output_type": "execute_result"
    }
   ],
   "source": [
    "%%time\n",
    "\n",
    "model = XGBClassifier()\n",
    "model.fit(X_train, y_train)"
   ]
  },
  {
   "cell_type": "code",
   "execution_count": 40,
   "id": "5a8b20ba-31d3-4fe7-b07b-09f43c80cdf9",
   "metadata": {},
   "outputs": [
    {
     "name": "stdout",
     "output_type": "stream",
     "text": [
      "              precision    recall  f1-score   support\n",
      "\n",
      "           0       0.98      0.74      0.85    125270\n",
      "           1       0.08      0.61      0.14      4634\n",
      "\n",
      "    accuracy                           0.74    129904\n",
      "   macro avg       0.53      0.68      0.49    129904\n",
      "weighted avg       0.95      0.74      0.82    129904\n",
      "\n",
      "ROC-AUC: 0.741\n",
      "CPU times: user 1.45 s, sys: 747 ms, total: 2.19 s\n",
      "Wall time: 300 ms\n"
     ]
    }
   ],
   "source": [
    "%%time\n",
    "\n",
    "y_pred = model.predict_proba(X_test)[:, 1]\n",
    "\n",
    "print(classification_report(y_test, (y_pred > round(y_train.mean(), 3)).astype(int)))\n",
    "print(f'ROC-AUC: {roc_auc_score(y_test, y_pred):.3f}')\n",
    "# ROC-AUC: 0.735"
   ]
  },
  {
   "cell_type": "code",
   "execution_count": 41,
   "id": "00c735ef",
   "metadata": {},
   "outputs": [
    {
     "data": {
      "image/png": "[encoded data removed]",
      "text/plain": [
       "<Figure size 2000x1000 with 1 Axes>"
      ]
     },
     "metadata": {},
     "output_type": "display_data"
    }
   ],
   "source": [
    "feature_important = model.get_booster().get_score(importance_type='weight')\n",
    "keys = list(feature_important.keys())\n",
    "values = list(feature_important.values())\n",
    "\n",
    "data_fi = pd.DataFrame(data=values, index=keys, columns=['score']).sort_values(by='score', ascending=False)\n",
    "data_fi.nlargest(25, columns='score').plot(kind='barh', figsize = (20, 10))  # plot top 25 features\n",
    "plt.show()"
   ]
  },
  {
   "cell_type": "markdown",
   "id": "0c29bc0f-8d2b-4197-82c8-cfefe1428ff2",
   "metadata": {},
   "source": [
    "## 1st submission"
   ]
  },
  {
   "cell_type": "code",
   "execution_count": 42,
   "id": "77749e41-2aa8-4006-ba78-9bd5d141908e",
   "metadata": {
    "scrolled": true
   },
   "outputs": [
    {
     "data": {
      "text/html": [
       "<div><style>\n",
       ".dataframe > thead > tr,\n",
       ".dataframe > tbody > tr {\n",
       "  text-align: right;\n",
       "  white-space: pre-wrap;\n",
       "}\n",
       "</style>\n",
       "<small>shape: (173_433, 640)</small><table border=\"1\" class=\"dataframe\"><thead><tr><th>feature1</th><th>feature2</th><th>feature3</th><th>feature4</th><th>feature5</th><th>feature6</th><th>feature7</th><th>feature8</th><th>feature9</th><th>feature12</th><th>feature14</th><th>feature16</th><th>feature17</th><th>feature18</th><th>feature19</th><th>feature22</th><th>feature24</th><th>feature25</th><th>feature31</th><th>feature33</th><th>feature35</th><th>feature36</th><th>feature37</th><th>feature38</th><th>feature41</th><th>feature43</th><th>feature44</th><th>feature45</th><th>feature46</th><th>feature47</th><th>feature48</th><th>feature49</th><th>feature52</th><th>feature53</th><th>feature54</th><th>feature55</th><th>feature56</th><th>&hellip;</th><th>feature992</th><th>feature993</th><th>feature994</th><th>feature996</th><th>feature997</th><th>feature998</th><th>feature999</th><th>feature1000</th><th>feature1001</th><th>feature1002</th><th>feature1003</th><th>feature1004</th><th>feature1035</th><th>feature1036</th><th>feature1037</th><th>feature1038</th><th>feature1042</th><th>feature1043</th><th>feature1045</th><th>feature1049</th><th>feature1050</th><th>feature1051</th><th>feature1052</th><th>feature1053</th><th>feature1054</th><th>feature1055</th><th>feature1056</th><th>feature1057</th><th>feature1059</th><th>feature1063</th><th>feature1064</th><th>feature1065</th><th>feature1066</th><th>feature1067</th><th>feature1068</th><th>feature1069</th><th>feature1076</th></tr><tr><td>i64</td><td>i64</td><td>i64</td><td>i64</td><td>i64</td><td>i64</td><td>i64</td><td>i64</td><td>i64</td><td>i64</td><td>i64</td><td>i64</td><td>i64</td><td>i64</td><td>i64</td><td>i64</td><td>i64</td><td>i64</td><td>i64</td><td>i64</td><td>i64</td><td>i64</td><td>i64</td><td>i64</td><td>i64</td><td>i64</td><td>i64</td><td>i64</td><td>i64</td><td>i64</td><td>i64</td><td>i64</td><td>i64</td><td>i64</td><td>i64</td><td>i64</td><td>i64</td><td>&hellip;</td><td>i64</td><td>i64</td><td>i64</td><td>i64</td><td>i64</td><td>i64</td><td>i64</td><td>i64</td><td>i64</td><td>i64</td><td>i64</td><td>i64</td><td>i64</td><td>i64</td><td>i64</td><td>i64</td><td>i64</td><td>i64</td><td>i64</td><td>i64</td><td>i64</td><td>i64</td><td>i64</td><td>i64</td><td>i64</td><td>i64</td><td>i64</td><td>i64</td><td>i64</td><td>i64</td><td>i64</td><td>i64</td><td>i64</td><td>i64</td><td>i64</td><td>i64</td><td>i64</td></tr></thead><tbody><tr><td>1696</td><td>458</td><td>26</td><td>102479</td><td>22</td><td>16</td><td>0</td><td>121</td><td>69</td><td>47</td><td>18</td><td>2</td><td>1</td><td>10</td><td>7</td><td>119624</td><td>77</td><td>1638</td><td>536</td><td>37047</td><td>2309</td><td>3652</td><td>85495</td><td>14172</td><td>7705</td><td>33578</td><td>6511</td><td>12018</td><td>64527</td><td>588431</td><td>0</td><td>1961</td><td>0</td><td>0</td><td>62218</td><td>573496</td><td>0</td><td>&hellip;</td><td>4</td><td>10</td><td>21</td><td>0</td><td>0</td><td>2</td><td>2</td><td>2</td><td>3</td><td>2</td><td>9</td><td>21</td><td>0</td><td>0</td><td>0</td><td>0</td><td>1724</td><td>7888</td><td>14913</td><td>0</td><td>0</td><td>0</td><td>0</td><td>0</td><td>0</td><td>0</td><td>0</td><td>0</td><td>0</td><td>254</td><td>0</td><td>355</td><td>308</td><td>779</td><td>7740</td><td>9577</td><td>9577</td></tr><tr><td>1688</td><td>53</td><td>78</td><td>103922</td><td>191</td><td>64</td><td>0</td><td>0</td><td>65</td><td>28</td><td>1</td><td>29</td><td>1</td><td>5</td><td>248</td><td>140184</td><td>248</td><td>300</td><td>633</td><td>50524</td><td>57098</td><td>3652</td><td>16306</td><td>81</td><td>7705</td><td>48044</td><td>6511</td><td>11233</td><td>80296</td><td>453151</td><td>0</td><td>0</td><td>4985</td><td>15442</td><td>27559</td><td>359735</td><td>0</td><td>&hellip;</td><td>6</td><td>12</td><td>21</td><td>0</td><td>0</td><td>2</td><td>2</td><td>2</td><td>3</td><td>4</td><td>10</td><td>19</td><td>0</td><td>0</td><td>0</td><td>0</td><td>0</td><td>8382</td><td>16284</td><td>0</td><td>0</td><td>0</td><td>0</td><td>0</td><td>0</td><td>0</td><td>0</td><td>6285</td><td>9829</td><td>24766</td><td>48600</td><td>46029</td><td>65113</td><td>79401</td><td>109240</td><td>153820</td><td>153820</td></tr><tr><td>1689</td><td>13</td><td>81</td><td>104111</td><td>191</td><td>4</td><td>0</td><td>0</td><td>125</td><td>43</td><td>1</td><td>0</td><td>0</td><td>10</td><td>248</td><td>140184</td><td>248</td><td>632</td><td>633</td><td>32721</td><td>41464</td><td>3652</td><td>85495</td><td>14172</td><td>7705</td><td>41415</td><td>19</td><td>66</td><td>404623</td><td>597648</td><td>0</td><td>0</td><td>19</td><td>70</td><td>392709</td><td>582546</td><td>0</td><td>&hellip;</td><td>6</td><td>11</td><td>24</td><td>0</td><td>0</td><td>0</td><td>2</td><td>0</td><td>1</td><td>4</td><td>9</td><td>22</td><td>0</td><td>0</td><td>0</td><td>0</td><td>0</td><td>0</td><td>0</td><td>0</td><td>0</td><td>0</td><td>0</td><td>0</td><td>0</td><td>2030</td><td>0</td><td>0</td><td>0</td><td>0</td><td>0</td><td>0</td><td>0</td><td>0</td><td>0</td><td>0</td><td>0</td></tr><tr><td>1761</td><td>1759</td><td>44</td><td>102433</td><td>191</td><td>4</td><td>0</td><td>0</td><td>135</td><td>54</td><td>1</td><td>75</td><td>135</td><td>11</td><td>248</td><td>140184</td><td>248</td><td>1722</td><td>633</td><td>50524</td><td>65748</td><td>3652</td><td>85495</td><td>14172</td><td>7705</td><td>59900</td><td>6511</td><td>12018</td><td>61497</td><td>498533</td><td>0</td><td>0</td><td>0</td><td>0</td><td>59301</td><td>486202</td><td>0</td><td>&hellip;</td><td>6</td><td>12</td><td>24</td><td>0</td><td>0</td><td>3</td><td>4</td><td>3</td><td>6</td><td>8</td><td>15</td><td>32</td><td>0</td><td>0</td><td>0</td><td>0</td><td>0</td><td>0</td><td>0</td><td>0</td><td>0</td><td>0</td><td>0</td><td>0</td><td>0</td><td>0</td><td>0</td><td>0</td><td>0</td><td>0</td><td>0</td><td>0</td><td>0</td><td>0</td><td>0</td><td>0</td><td>0</td></tr><tr><td>1761</td><td>1759</td><td>77</td><td>102010</td><td>191</td><td>34</td><td>0</td><td>0</td><td>83</td><td>187</td><td>1</td><td>2</td><td>72</td><td>6</td><td>248</td><td>140184</td><td>248</td><td>1722</td><td>633</td><td>50524</td><td>65748</td><td>3652</td><td>85495</td><td>14172</td><td>7705</td><td>59900</td><td>6511</td><td>12018</td><td>76431</td><td>108069</td><td>0</td><td>0</td><td>0</td><td>559</td><td>73752</td><td>105055</td><td>0</td><td>&hellip;</td><td>4</td><td>7</td><td>12</td><td>0</td><td>0</td><td>2</td><td>2</td><td>2</td><td>3</td><td>3</td><td>6</td><td>11</td><td>139</td><td>0</td><td>323</td><td>139</td><td>0</td><td>0</td><td>0</td><td>0</td><td>0</td><td>0</td><td>0</td><td>0</td><td>0</td><td>0</td><td>0</td><td>0</td><td>0</td><td>0</td><td>0</td><td>0</td><td>0</td><td>0</td><td>0</td><td>0</td><td>0</td></tr><tr><td>1761</td><td>1759</td><td>122</td><td>105798</td><td>49</td><td>16</td><td>0</td><td>0</td><td>187</td><td>17</td><td>1</td><td>14</td><td>74</td><td>15</td><td>183</td><td>0</td><td>248</td><td>1722</td><td>633</td><td>12688</td><td>65748</td><td>3652</td><td>85495</td><td>14172</td><td>7705</td><td>59900</td><td>6511</td><td>12018</td><td>523584</td><td>528937</td><td>0</td><td>0</td><td>0</td><td>0</td><td>508520</td><td>515851</td><td>0</td><td>&hellip;</td><td>5</td><td>11</td><td>23</td><td>0</td><td>0</td><td>2</td><td>1</td><td>2</td><td>2</td><td>3</td><td>11</td><td>23</td><td>0</td><td>0</td><td>326</td><td>0</td><td>0</td><td>0</td><td>0</td><td>0</td><td>0</td><td>0</td><td>0</td><td>0</td><td>0</td><td>0</td><td>0</td><td>0</td><td>0</td><td>0</td><td>0</td><td>0</td><td>0</td><td>0</td><td>0</td><td>0</td><td>0</td></tr><tr><td>1602</td><td>1759</td><td>67</td><td>102229</td><td>14</td><td>2</td><td>0</td><td>0</td><td>19</td><td>187</td><td>1</td><td>0</td><td>1</td><td>1</td><td>217</td><td>0</td><td>248</td><td>800</td><td>633</td><td>50524</td><td>44809</td><td>3652</td><td>85495</td><td>14172</td><td>7705</td><td>46905</td><td>6511</td><td>12018</td><td>305775</td><td>401053</td><td>0</td><td>0</td><td>0</td><td>0</td><td>296322</td><td>391454</td><td>0</td><td>&hellip;</td><td>6</td><td>14</td><td>29</td><td>0</td><td>0</td><td>2</td><td>3</td><td>2</td><td>4</td><td>4</td><td>12</td><td>27</td><td>0</td><td>0</td><td>0</td><td>0</td><td>0</td><td>0</td><td>0</td><td>0</td><td>0</td><td>0</td><td>0</td><td>0</td><td>0</td><td>0</td><td>0</td><td>0</td><td>0</td><td>0</td><td>0</td><td>0</td><td>0</td><td>0</td><td>0</td><td>62618</td><td>62618</td></tr><tr><td>1690</td><td>1553</td><td>106</td><td>103036</td><td>191</td><td>22</td><td>0</td><td>0</td><td>0</td><td>58</td><td>1</td><td>0</td><td>0</td><td>28</td><td>248</td><td>140184</td><td>248</td><td>1722</td><td>633</td><td>50524</td><td>65748</td><td>3652</td><td>85495</td><td>14172</td><td>7705</td><td>21915</td><td>6511</td><td>12018</td><td>408025</td><td>383080</td><td>0</td><td>0</td><td>0</td><td>0</td><td>339696</td><td>334893</td><td>0</td><td>&hellip;</td><td>7</td><td>12</td><td>24</td><td>2</td><td>0</td><td>2</td><td>2</td><td>4</td><td>5</td><td>7</td><td>13</td><td>26</td><td>51732</td><td>16449</td><td>13511</td><td>61060</td><td>0</td><td>0</td><td>0</td><td>0</td><td>0</td><td>0</td><td>0</td><td>0</td><td>0</td><td>0</td><td>0</td><td>113</td><td>213</td><td>0</td><td>0</td><td>0</td><td>0</td><td>0</td><td>0</td><td>0</td><td>0</td></tr><tr><td>1107</td><td>767</td><td>18</td><td>94011</td><td>191</td><td>23</td><td>0</td><td>0</td><td>8</td><td>187</td><td>1</td><td>7</td><td>7</td><td>0</td><td>248</td><td>140184</td><td>248</td><td>1722</td><td>633</td><td>49681</td><td>65748</td><td>3652</td><td>85495</td><td>14172</td><td>7705</td><td>14194</td><td>6511</td><td>12018</td><td>431027</td><td>587485</td><td>0</td><td>0</td><td>0</td><td>0</td><td>418424</td><td>572716</td><td>0</td><td>&hellip;</td><td>5</td><td>11</td><td>20</td><td>0</td><td>0</td><td>2</td><td>2</td><td>2</td><td>3</td><td>4</td><td>10</td><td>20</td><td>3331</td><td>2761</td><td>6437</td><td>6090</td><td>0</td><td>0</td><td>0</td><td>0</td><td>0</td><td>0</td><td>0</td><td>0</td><td>0</td><td>0</td><td>0</td><td>3607</td><td>5510</td><td>20743</td><td>23650</td><td>45990</td><td>35284</td><td>68398</td><td>108656</td><td>154593</td><td>154593</td></tr><tr><td>1761</td><td>1759</td><td>139</td><td>104180</td><td>191</td><td>35</td><td>0</td><td>0</td><td>162</td><td>118</td><td>1</td><td>1</td><td>19</td><td>13</td><td>248</td><td>140184</td><td>248</td><td>1722</td><td>633</td><td>528</td><td>65748</td><td>3652</td><td>85495</td><td>14172</td><td>7705</td><td>55371</td><td>6511</td><td>12018</td><td>496953</td><td>477605</td><td>0</td><td>0</td><td>0</td><td>0</td><td>482609</td><td>465891</td><td>0</td><td>&hellip;</td><td>3</td><td>6</td><td>16</td><td>0</td><td>0</td><td>1</td><td>1</td><td>1</td><td>1</td><td>1</td><td>4</td><td>14</td><td>0</td><td>0</td><td>0</td><td>0</td><td>0</td><td>0</td><td>0</td><td>0</td><td>0</td><td>0</td><td>0</td><td>0</td><td>0</td><td>0</td><td>0</td><td>0</td><td>0</td><td>0</td><td>0</td><td>0</td><td>0</td><td>0</td><td>0</td><td>2215</td><td>2215</td></tr><tr><td>1761</td><td>1759</td><td>141</td><td>105543</td><td>191</td><td>4</td><td>125</td><td>290</td><td>298</td><td>187</td><td>227</td><td>243</td><td>275</td><td>28</td><td>248</td><td>140184</td><td>248</td><td>1722</td><td>633</td><td>50524</td><td>65748</td><td>3652</td><td>0</td><td>10973</td><td>7705</td><td>59900</td><td>6511</td><td>12018</td><td>538663</td><td>597333</td><td>0</td><td>0</td><td>0</td><td>0</td><td>523221</td><td>582244</td><td>0</td><td>&hellip;</td><td>8</td><td>17</td><td>30</td><td>1</td><td>1</td><td>2</td><td>3</td><td>3</td><td>5</td><td>6</td><td>15</td><td>28</td><td>0</td><td>0</td><td>0</td><td>0</td><td>0</td><td>0</td><td>0</td><td>0</td><td>0</td><td>0</td><td>0</td><td>0</td><td>0</td><td>0</td><td>0</td><td>0</td><td>0</td><td>0</td><td>0</td><td>0</td><td>0</td><td>0</td><td>0</td><td>0</td><td>0</td></tr><tr><td>1678</td><td>1759</td><td>124</td><td>103243</td><td>191</td><td>2</td><td>0</td><td>0</td><td>125</td><td>124</td><td>1</td><td>71</td><td>117</td><td>10</td><td>4</td><td>0</td><td>248</td><td>1722</td><td>633</td><td>50524</td><td>65748</td><td>3652</td><td>85495</td><td>14172</td><td>7705</td><td>59900</td><td>6511</td><td>12018</td><td>150170</td><td>305107</td><td>0</td><td>0</td><td>0</td><td>0</td><td>145036</td><td>298052</td><td>0</td><td>&hellip;</td><td>11</td><td>19</td><td>25</td><td>2</td><td>1</td><td>2</td><td>4</td><td>4</td><td>7</td><td>9</td><td>17</td><td>23</td><td>0</td><td>0</td><td>7450</td><td>0</td><td>0</td><td>0</td><td>0</td><td>0</td><td>0</td><td>0</td><td>0</td><td>0</td><td>0</td><td>0</td><td>0</td><td>0</td><td>0</td><td>0</td><td>0</td><td>0</td><td>0</td><td>0</td><td>7783</td><td>13106</td><td>13106</td></tr><tr><td>&hellip;</td><td>&hellip;</td><td>&hellip;</td><td>&hellip;</td><td>&hellip;</td><td>&hellip;</td><td>&hellip;</td><td>&hellip;</td><td>&hellip;</td><td>&hellip;</td><td>&hellip;</td><td>&hellip;</td><td>&hellip;</td><td>&hellip;</td><td>&hellip;</td><td>&hellip;</td><td>&hellip;</td><td>&hellip;</td><td>&hellip;</td><td>&hellip;</td><td>&hellip;</td><td>&hellip;</td><td>&hellip;</td><td>&hellip;</td><td>&hellip;</td><td>&hellip;</td><td>&hellip;</td><td>&hellip;</td><td>&hellip;</td><td>&hellip;</td><td>&hellip;</td><td>&hellip;</td><td>&hellip;</td><td>&hellip;</td><td>&hellip;</td><td>&hellip;</td><td>&hellip;</td><td>&hellip;</td><td>&hellip;</td><td>&hellip;</td><td>&hellip;</td><td>&hellip;</td><td>&hellip;</td><td>&hellip;</td><td>&hellip;</td><td>&hellip;</td><td>&hellip;</td><td>&hellip;</td><td>&hellip;</td><td>&hellip;</td><td>&hellip;</td><td>&hellip;</td><td>&hellip;</td><td>&hellip;</td><td>&hellip;</td><td>&hellip;</td><td>&hellip;</td><td>&hellip;</td><td>&hellip;</td><td>&hellip;</td><td>&hellip;</td><td>&hellip;</td><td>&hellip;</td><td>&hellip;</td><td>&hellip;</td><td>&hellip;</td><td>&hellip;</td><td>&hellip;</td><td>&hellip;</td><td>&hellip;</td><td>&hellip;</td><td>&hellip;</td><td>&hellip;</td><td>&hellip;</td><td>&hellip;</td></tr><tr><td>1761</td><td>1759</td><td>141</td><td>2333</td><td>191</td><td>5</td><td>125</td><td>290</td><td>298</td><td>187</td><td>227</td><td>243</td><td>275</td><td>28</td><td>248</td><td>140184</td><td>248</td><td>1722</td><td>633</td><td>50524</td><td>65748</td><td>3652</td><td>85495</td><td>14172</td><td>7705</td><td>59900</td><td>6511</td><td>12018</td><td>366779</td><td>267575</td><td>0</td><td>0</td><td>0</td><td>0</td><td>355754</td><td>261510</td><td>0</td><td>&hellip;</td><td>5</td><td>5</td><td>5</td><td>0</td><td>0</td><td>2</td><td>1</td><td>2</td><td>2</td><td>3</td><td>3</td><td>3</td><td>0</td><td>0</td><td>0</td><td>0</td><td>0</td><td>0</td><td>0</td><td>0</td><td>0</td><td>0</td><td>0</td><td>0</td><td>0</td><td>0</td><td>0</td><td>0</td><td>0</td><td>20825</td><td>20658</td><td>21110</td><td>33319</td><td>43460</td><td>76740</td><td>94987</td><td>94987</td></tr><tr><td>1761</td><td>1759</td><td>141</td><td>1978</td><td>191</td><td>4</td><td>125</td><td>290</td><td>298</td><td>187</td><td>227</td><td>243</td><td>275</td><td>28</td><td>248</td><td>140184</td><td>248</td><td>1722</td><td>633</td><td>50524</td><td>65748</td><td>3652</td><td>85495</td><td>14172</td><td>7705</td><td>59900</td><td>6511</td><td>12018</td><td>37682</td><td>108319</td><td>0</td><td>0</td><td>0</td><td>0</td><td>36402</td><td>106398</td><td>0</td><td>&hellip;</td><td>6</td><td>6</td><td>6</td><td>0</td><td>0</td><td>2</td><td>1</td><td>2</td><td>2</td><td>4</td><td>4</td><td>4</td><td>0</td><td>0</td><td>0</td><td>0</td><td>0</td><td>0</td><td>0</td><td>0</td><td>0</td><td>0</td><td>0</td><td>0</td><td>0</td><td>0</td><td>0</td><td>0</td><td>0</td><td>0</td><td>0</td><td>0</td><td>0</td><td>0</td><td>0</td><td>0</td><td>0</td></tr><tr><td>1761</td><td>1759</td><td>4</td><td>1791</td><td>4</td><td>4</td><td>125</td><td>290</td><td>298</td><td>187</td><td>227</td><td>243</td><td>275</td><td>28</td><td>197</td><td>110845</td><td>248</td><td>1722</td><td>633</td><td>50524</td><td>65748</td><td>3652</td><td>85495</td><td>14172</td><td>7705</td><td>17293</td><td>6511</td><td>12018</td><td>153517</td><td>233749</td><td>0</td><td>0</td><td>0</td><td>0</td><td>148280</td><td>228537</td><td>0</td><td>&hellip;</td><td>6</td><td>9</td><td>9</td><td>0</td><td>0</td><td>1</td><td>3</td><td>1</td><td>3</td><td>4</td><td>7</td><td>7</td><td>0</td><td>4978</td><td>0</td><td>5967</td><td>0</td><td>0</td><td>0</td><td>0</td><td>0</td><td>0</td><td>0</td><td>0</td><td>0</td><td>0</td><td>2103</td><td>4669</td><td>7990</td><td>0</td><td>0</td><td>0</td><td>0</td><td>0</td><td>0</td><td>0</td><td>0</td></tr><tr><td>1761</td><td>1759</td><td>141</td><td>1419</td><td>191</td><td>4</td><td>125</td><td>290</td><td>298</td><td>187</td><td>227</td><td>243</td><td>275</td><td>28</td><td>248</td><td>140184</td><td>248</td><td>1722</td><td>633</td><td>50524</td><td>65748</td><td>3652</td><td>85495</td><td>14172</td><td>7705</td><td>59900</td><td>6511</td><td>12018</td><td>122682</td><td>226718</td><td>0</td><td>0</td><td>0</td><td>0</td><td>118492</td><td>221650</td><td>0</td><td>&hellip;</td><td>6</td><td>10</td><td>10</td><td>0</td><td>0</td><td>2</td><td>2</td><td>2</td><td>3</td><td>4</td><td>8</td><td>8</td><td>0</td><td>0</td><td>0</td><td>0</td><td>0</td><td>0</td><td>0</td><td>0</td><td>0</td><td>0</td><td>0</td><td>0</td><td>0</td><td>0</td><td>0</td><td>0</td><td>0</td><td>0</td><td>0</td><td>0</td><td>0</td><td>0</td><td>0</td><td>0</td><td>0</td></tr><tr><td>1761</td><td>1759</td><td>141</td><td>911</td><td>191</td><td>3</td><td>125</td><td>290</td><td>298</td><td>187</td><td>227</td><td>243</td><td>275</td><td>28</td><td>248</td><td>140184</td><td>248</td><td>1722</td><td>633</td><td>50524</td><td>65748</td><td>3652</td><td>85495</td><td>14172</td><td>7705</td><td>59900</td><td>6511</td><td>12018</td><td>171491</td><td>108283</td><td>0</td><td>0</td><td>0</td><td>0</td><td>165833</td><td>106360</td><td>0</td><td>&hellip;</td><td>6</td><td>6</td><td>6</td><td>0</td><td>0</td><td>1</td><td>3</td><td>1</td><td>3</td><td>4</td><td>4</td><td>4</td><td>35188</td><td>10761</td><td>0</td><td>41599</td><td>0</td><td>0</td><td>0</td><td>0</td><td>0</td><td>0</td><td>0</td><td>0</td><td>0</td><td>0</td><td>0</td><td>4669</td><td>7135</td><td>0</td><td>0</td><td>0</td><td>0</td><td>0</td><td>0</td><td>0</td><td>0</td></tr><tr><td>1761</td><td>1759</td><td>141</td><td>929</td><td>191</td><td>2</td><td>125</td><td>290</td><td>298</td><td>187</td><td>227</td><td>243</td><td>275</td><td>28</td><td>248</td><td>140184</td><td>248</td><td>1722</td><td>633</td><td>50524</td><td>65748</td><td>3652</td><td>85495</td><td>14172</td><td>7705</td><td>59900</td><td>6511</td><td>12018</td><td>273707</td><td>168662</td><td>0</td><td>0</td><td>0</td><td>0</td><td>265062</td><td>165139</td><td>0</td><td>&hellip;</td><td>6</td><td>9</td><td>9</td><td>1</td><td>1</td><td>1</td><td>2</td><td>2</td><td>3</td><td>4</td><td>7</td><td>7</td><td>0</td><td>0</td><td>0</td><td>0</td><td>0</td><td>0</td><td>0</td><td>0</td><td>0</td><td>0</td><td>0</td><td>0</td><td>0</td><td>0</td><td>0</td><td>0</td><td>0</td><td>40474</td><td>24747</td><td>0</td><td>53215</td><td>59947</td><td>71639</td><td>87438</td><td>87438</td></tr><tr><td>1761</td><td>1759</td><td>141</td><td>413</td><td>191</td><td>2</td><td>125</td><td>290</td><td>298</td><td>187</td><td>227</td><td>243</td><td>275</td><td>28</td><td>248</td><td>140184</td><td>248</td><td>1722</td><td>633</td><td>50524</td><td>65748</td><td>3652</td><td>85495</td><td>14172</td><td>7705</td><td>59900</td><td>6511</td><td>12018</td><td>202082</td><td>126125</td><td>0</td><td>0</td><td>0</td><td>0</td><td>195459</td><td>123745</td><td>0</td><td>&hellip;</td><td>9</td><td>13</td><td>13</td><td>2</td><td>2</td><td>1</td><td>3</td><td>3</td><td>5</td><td>7</td><td>11</td><td>11</td><td>0</td><td>0</td><td>19232</td><td>0</td><td>0</td><td>0</td><td>0</td><td>0</td><td>0</td><td>1638</td><td>0</td><td>0</td><td>0</td><td>0</td><td>0</td><td>0</td><td>0</td><td>0</td><td>0</td><td>51714</td><td>0</td><td>0</td><td>0</td><td>0</td><td>0</td></tr><tr><td>1761</td><td>1759</td><td>141</td><td>220</td><td>191</td><td>0</td><td>125</td><td>290</td><td>298</td><td>187</td><td>227</td><td>243</td><td>275</td><td>28</td><td>248</td><td>140184</td><td>248</td><td>1722</td><td>633</td><td>50524</td><td>65748</td><td>3652</td><td>85495</td><td>14172</td><td>7705</td><td>59900</td><td>6511</td><td>12018</td><td>385444</td><td>221359</td><td>0</td><td>0</td><td>0</td><td>0</td><td>374041</td><td>216491</td><td>0</td><td>&hellip;</td><td>4</td><td>4</td><td>4</td><td>1</td><td>1</td><td>1</td><td>1</td><td>2</td><td>2</td><td>2</td><td>2</td><td>2</td><td>0</td><td>0</td><td>19232</td><td>0</td><td>0</td><td>0</td><td>0</td><td>0</td><td>0</td><td>1638</td><td>0</td><td>0</td><td>0</td><td>0</td><td>0</td><td>0</td><td>0</td><td>0</td><td>0</td><td>51714</td><td>0</td><td>0</td><td>0</td><td>0</td><td>0</td></tr><tr><td>1761</td><td>1759</td><td>141</td><td>174</td><td>191</td><td>1</td><td>125</td><td>290</td><td>298</td><td>187</td><td>227</td><td>243</td><td>275</td><td>28</td><td>248</td><td>140184</td><td>248</td><td>1722</td><td>633</td><td>50524</td><td>65748</td><td>3652</td><td>85495</td><td>14172</td><td>7705</td><td>59900</td><td>6511</td><td>12018</td><td>151691</td><td>65625</td><td>0</td><td>0</td><td>0</td><td>0</td><td>146507</td><td>64815</td><td>0</td><td>&hellip;</td><td>6</td><td>7</td><td>7</td><td>1</td><td>1</td><td>1</td><td>2</td><td>2</td><td>3</td><td>4</td><td>5</td><td>5</td><td>0</td><td>0</td><td>19232</td><td>0</td><td>0</td><td>0</td><td>0</td><td>0</td><td>0</td><td>1638</td><td>0</td><td>0</td><td>0</td><td>0</td><td>0</td><td>0</td><td>0</td><td>0</td><td>0</td><td>51714</td><td>0</td><td>0</td><td>0</td><td>0</td><td>0</td></tr><tr><td>1761</td><td>1759</td><td>141</td><td>74</td><td>191</td><td>1</td><td>125</td><td>290</td><td>298</td><td>187</td><td>227</td><td>243</td><td>275</td><td>28</td><td>248</td><td>140184</td><td>248</td><td>1722</td><td>633</td><td>50524</td><td>65748</td><td>3652</td><td>85495</td><td>14172</td><td>7705</td><td>59900</td><td>6511</td><td>12018</td><td>1698</td><td>4096</td><td>0</td><td>0</td><td>0</td><td>0</td><td>1724</td><td>726</td><td>0</td><td>&hellip;</td><td>4</td><td>4</td><td>4</td><td>0</td><td>0</td><td>1</td><td>3</td><td>1</td><td>3</td><td>2</td><td>2</td><td>2</td><td>0</td><td>0</td><td>19232</td><td>0</td><td>0</td><td>0</td><td>0</td><td>0</td><td>0</td><td>1638</td><td>0</td><td>0</td><td>0</td><td>0</td><td>0</td><td>0</td><td>0</td><td>0</td><td>0</td><td>51714</td><td>0</td><td>0</td><td>0</td><td>0</td><td>0</td></tr><tr><td>1761</td><td>1759</td><td>141</td><td>107</td><td>191</td><td>1</td><td>125</td><td>290</td><td>298</td><td>187</td><td>227</td><td>243</td><td>275</td><td>28</td><td>248</td><td>140184</td><td>248</td><td>1722</td><td>633</td><td>50524</td><td>65748</td><td>3652</td><td>85495</td><td>14172</td><td>7705</td><td>59900</td><td>6511</td><td>12018</td><td>4734</td><td>4096</td><td>0</td><td>0</td><td>0</td><td>0</td><td>4711</td><td>1694</td><td>0</td><td>&hellip;</td><td>4</td><td>4</td><td>4</td><td>0</td><td>0</td><td>2</td><td>2</td><td>2</td><td>3</td><td>2</td><td>2</td><td>2</td><td>4021</td><td>0</td><td>19232</td><td>3919</td><td>0</td><td>0</td><td>0</td><td>0</td><td>0</td><td>1638</td><td>0</td><td>0</td><td>0</td><td>0</td><td>0</td><td>0</td><td>0</td><td>0</td><td>0</td><td>51714</td><td>0</td><td>0</td><td>0</td><td>0</td><td>0</td></tr><tr><td>1761</td><td>1759</td><td>141</td><td>23</td><td>191</td><td>0</td><td>125</td><td>290</td><td>298</td><td>187</td><td>227</td><td>243</td><td>275</td><td>28</td><td>248</td><td>140184</td><td>248</td><td>1722</td><td>633</td><td>50524</td><td>65748</td><td>3652</td><td>85495</td><td>14172</td><td>7705</td><td>59900</td><td>6511</td><td>12018</td><td>10956</td><td>4096</td><td>0</td><td>0</td><td>0</td><td>0</td><td>10755</td><td>3229</td><td>0</td><td>&hellip;</td><td>4</td><td>4</td><td>4</td><td>0</td><td>0</td><td>1</td><td>3</td><td>1</td><td>3</td><td>2</td><td>2</td><td>2</td><td>0</td><td>39735</td><td>19232</td><td>0</td><td>0</td><td>8736</td><td>0</td><td>0</td><td>1756</td><td>1638</td><td>0</td><td>0</td><td>0</td><td>0</td><td>0</td><td>20019</td><td>0</td><td>0</td><td>50250</td><td>51714</td><td>0</td><td>0</td><td>0</td><td>0</td><td>0</td></tr></tbody></table></div>"
      ],
      "text/plain": [
       "shape: (173_433, 640)\n",
       "┌──────────┬──────────┬──────────┬──────────┬───┬────────────┬────────────┬────────────┬───────────┐\n",
       "│ feature1 ┆ feature2 ┆ feature3 ┆ feature4 ┆ … ┆ feature106 ┆ feature106 ┆ feature106 ┆ feature10 │\n",
       "│ ---      ┆ ---      ┆ ---      ┆ ---      ┆   ┆ 7          ┆ 8          ┆ 9          ┆ 76        │\n",
       "│ i64      ┆ i64      ┆ i64      ┆ i64      ┆   ┆ ---        ┆ ---        ┆ ---        ┆ ---       │\n",
       "│          ┆          ┆          ┆          ┆   ┆ i64        ┆ i64        ┆ i64        ┆ i64       │\n",
       "╞══════════╪══════════╪══════════╪══════════╪═══╪════════════╪════════════╪════════════╪═══════════╡\n",
       "│ 1696     ┆ 458      ┆ 26       ┆ 102479   ┆ … ┆ 779        ┆ 7740       ┆ 9577       ┆ 9577      │\n",
       "│ 1688     ┆ 53       ┆ 78       ┆ 103922   ┆ … ┆ 79401      ┆ 109240     ┆ 153820     ┆ 153820    │\n",
       "│ 1689     ┆ 13       ┆ 81       ┆ 104111   ┆ … ┆ 0          ┆ 0          ┆ 0          ┆ 0         │\n",
       "│ 1761     ┆ 1759     ┆ 44       ┆ 102433   ┆ … ┆ 0          ┆ 0          ┆ 0          ┆ 0         │\n",
       "│ 1761     ┆ 1759     ┆ 77       ┆ 102010   ┆ … ┆ 0          ┆ 0          ┆ 0          ┆ 0         │\n",
       "│ …        ┆ …        ┆ …        ┆ …        ┆ … ┆ …          ┆ …          ┆ …          ┆ …         │\n",
       "│ 1761     ┆ 1759     ┆ 141      ┆ 220      ┆ … ┆ 0          ┆ 0          ┆ 0          ┆ 0         │\n",
       "│ 1761     ┆ 1759     ┆ 141      ┆ 174      ┆ … ┆ 0          ┆ 0          ┆ 0          ┆ 0         │\n",
       "│ 1761     ┆ 1759     ┆ 141      ┆ 74       ┆ … ┆ 0          ┆ 0          ┆ 0          ┆ 0         │\n",
       "│ 1761     ┆ 1759     ┆ 141      ┆ 107      ┆ … ┆ 0          ┆ 0          ┆ 0          ┆ 0         │\n",
       "│ 1761     ┆ 1759     ┆ 141      ┆ 23       ┆ … ┆ 0          ┆ 0          ┆ 0          ┆ 0         │\n",
       "└──────────┴──────────┴──────────┴──────────┴───┴────────────┴────────────┴────────────┴───────────┘"
      ]
     },
     "execution_count": 42,
     "metadata": {},
     "output_type": "execute_result"
    }
   ],
   "source": [
    "data_test = pl.read_parquet(DATA_PATH + 'data_test_cleaned.parquet')\n",
    "# data_test = data_test.select(\n",
    "#     col for col in data.columns if col in data_test.columns\n",
    "# )\n",
    "data_test"
   ]
  },
  {
   "cell_type": "code",
   "execution_count": 43,
   "id": "74e7c979-7185-45f7-bea8-6cd13edc4c7e",
   "metadata": {},
   "outputs": [
    {
     "name": "stdout",
     "output_type": "stream",
     "text": [
      "CPU times: user 18min 43s, sys: 9.23 s, total: 18min 52s\n",
      "Wall time: 3min\n"
     ]
    },
    {
     "data": {
      "text/plain": [
       "<catboost.core.CatBoostClassifier at 0x291e35190>"
      ]
     },
     "execution_count": 43,
     "metadata": {},
     "output_type": "execute_result"
    }
   ],
   "source": [
    "%%time\n",
    "\n",
    "X_train, y_train = data.drop('target').to_pandas(), data['target'].to_pandas().values\n",
    "\n",
    "model = CatBoostClassifier(allow_writing_files=False, verbose=False)\n",
    "model.fit(X_train, y_train)"
   ]
  },
  {
   "cell_type": "code",
   "execution_count": 44,
   "id": "9cebecea-48ed-4328-8142-19fa0c407ef1",
   "metadata": {},
   "outputs": [
    {
     "name": "stdout",
     "output_type": "stream",
     "text": [
      "CPU times: user 904 ms, sys: 559 ms, total: 1.46 s\n",
      "Wall time: 342 ms\n"
     ]
    }
   ],
   "source": [
    "%%time\n",
    "\n",
    "X_test = data_test.drop('target').to_pandas()\n",
    "\n",
    "y_pred = model.predict_proba(X_test)[:, 1]\n",
    "y_pred_binary = (y_pred > round(y_train.mean(), 3)).astype(int)"
   ]
  },
  {
   "cell_type": "code",
   "execution_count": 45,
   "id": "ef01af69-3567-44f7-a1e2-b68638287902",
   "metadata": {},
   "outputs": [
    {
     "data": {
      "text/html": [
       "<div>\n",
       "<style scoped>\n",
       "    .dataframe tbody tr th:only-of-type {\n",
       "        vertical-align: middle;\n",
       "    }\n",
       "\n",
       "    .dataframe tbody tr th {\n",
       "        vertical-align: top;\n",
       "    }\n",
       "\n",
       "    .dataframe thead th {\n",
       "        text-align: right;\n",
       "    }\n",
       "</style>\n",
       "<table border=\"1\" class=\"dataframe\">\n",
       "  <thead>\n",
       "    <tr style=\"text-align: right;\">\n",
       "      <th></th>\n",
       "      <th>id</th>\n",
       "      <th>target_prob</th>\n",
       "      <th>target_bin</th>\n",
       "    </tr>\n",
       "  </thead>\n",
       "  <tbody>\n",
       "    <tr>\n",
       "      <th>0</th>\n",
       "      <td>3</td>\n",
       "      <td>0.010903</td>\n",
       "      <td>0</td>\n",
       "    </tr>\n",
       "    <tr>\n",
       "      <th>1</th>\n",
       "      <td>4</td>\n",
       "      <td>0.018156</td>\n",
       "      <td>0</td>\n",
       "    </tr>\n",
       "    <tr>\n",
       "      <th>2</th>\n",
       "      <td>12</td>\n",
       "      <td>0.035269</td>\n",
       "      <td>0</td>\n",
       "    </tr>\n",
       "  </tbody>\n",
       "</table>\n",
       "</div>"
      ],
      "text/plain": [
       "   id  target_prob  target_bin\n",
       "0   3     0.010903           0\n",
       "1   4     0.018156           0\n",
       "2  12     0.035269           0"
      ]
     },
     "execution_count": 45,
     "metadata": {},
     "output_type": "execute_result"
    }
   ],
   "source": [
    "submission = pl.read_parquet(DATA_PATH + 'test_sber.parquet').select('id').to_pandas()\n",
    "\n",
    "submission['target_prob'] = y_pred\n",
    "submission['target_bin'] = y_pred_binary\n",
    "submission.head(3)"
   ]
  },
  {
   "cell_type": "code",
   "execution_count": 46,
   "id": "b133d337-d64b-44e0-80fb-584261f32cc5",
   "metadata": {},
   "outputs": [],
   "source": [
    "submission.to_csv('submission_1.csv', index=False)"
   ]
  },
  {
   "cell_type": "code",
   "execution_count": 47,
   "id": "1ea047c5-e07d-4df6-81e9-e28757e7c65c",
   "metadata": {},
   "outputs": [
    {
     "data": {
      "text/html": [
       "<div>\n",
       "<style scoped>\n",
       "    .dataframe tbody tr th:only-of-type {\n",
       "        vertical-align: middle;\n",
       "    }\n",
       "\n",
       "    .dataframe tbody tr th {\n",
       "        vertical-align: top;\n",
       "    }\n",
       "\n",
       "    .dataframe thead th {\n",
       "        text-align: right;\n",
       "    }\n",
       "</style>\n",
       "<table border=\"1\" class=\"dataframe\">\n",
       "  <thead>\n",
       "    <tr style=\"text-align: right;\">\n",
       "      <th></th>\n",
       "      <th>id</th>\n",
       "      <th>target_prob</th>\n",
       "      <th>target_bin</th>\n",
       "    </tr>\n",
       "  </thead>\n",
       "  <tbody>\n",
       "    <tr>\n",
       "      <th>0</th>\n",
       "      <td>3</td>\n",
       "      <td>0.010903</td>\n",
       "      <td>0</td>\n",
       "    </tr>\n",
       "    <tr>\n",
       "      <th>1</th>\n",
       "      <td>4</td>\n",
       "      <td>0.018156</td>\n",
       "      <td>0</td>\n",
       "    </tr>\n",
       "    <tr>\n",
       "      <th>2</th>\n",
       "      <td>12</td>\n",
       "      <td>0.035269</td>\n",
       "      <td>0</td>\n",
       "    </tr>\n",
       "    <tr>\n",
       "      <th>3</th>\n",
       "      <td>16</td>\n",
       "      <td>0.011283</td>\n",
       "      <td>0</td>\n",
       "    </tr>\n",
       "    <tr>\n",
       "      <th>4</th>\n",
       "      <td>20</td>\n",
       "      <td>0.069019</td>\n",
       "      <td>1</td>\n",
       "    </tr>\n",
       "    <tr>\n",
       "      <th>...</th>\n",
       "      <td>...</td>\n",
       "      <td>...</td>\n",
       "      <td>...</td>\n",
       "    </tr>\n",
       "    <tr>\n",
       "      <th>173428</th>\n",
       "      <td>693043</td>\n",
       "      <td>0.130796</td>\n",
       "      <td>1</td>\n",
       "    </tr>\n",
       "    <tr>\n",
       "      <th>173429</th>\n",
       "      <td>693044</td>\n",
       "      <td>0.144447</td>\n",
       "      <td>1</td>\n",
       "    </tr>\n",
       "    <tr>\n",
       "      <th>173430</th>\n",
       "      <td>693045</td>\n",
       "      <td>0.077651</td>\n",
       "      <td>1</td>\n",
       "    </tr>\n",
       "    <tr>\n",
       "      <th>173431</th>\n",
       "      <td>693046</td>\n",
       "      <td>0.228700</td>\n",
       "      <td>1</td>\n",
       "    </tr>\n",
       "    <tr>\n",
       "      <th>173432</th>\n",
       "      <td>693047</td>\n",
       "      <td>0.084329</td>\n",
       "      <td>1</td>\n",
       "    </tr>\n",
       "  </tbody>\n",
       "</table>\n",
       "<p>173433 rows × 3 columns</p>\n",
       "</div>"
      ],
      "text/plain": [
       "            id  target_prob  target_bin\n",
       "0            3     0.010903           0\n",
       "1            4     0.018156           0\n",
       "2           12     0.035269           0\n",
       "3           16     0.011283           0\n",
       "4           20     0.069019           1\n",
       "...        ...          ...         ...\n",
       "173428  693043     0.130796           1\n",
       "173429  693044     0.144447           1\n",
       "173430  693045     0.077651           1\n",
       "173431  693046     0.228700           1\n",
       "173432  693047     0.084329           1\n",
       "\n",
       "[173433 rows x 3 columns]"
      ]
     },
     "execution_count": 47,
     "metadata": {},
     "output_type": "execute_result"
    }
   ],
   "source": [
    "submission"
   ]
  },
  {
   "cell_type": "code",
   "execution_count": null,
   "id": "be57cb7e-bbb6-4ef2-82d8-ec38b611a654",
   "metadata": {},
   "outputs": [],
   "source": []
  }
 ],
 "metadata": {
  "kernelspec": {
   "display_name": "Python 3 (ipykernel)",
   "language": "python",
   "name": "python3"
  },
  "language_info": {
   "codemirror_mode": {
    "name": "ipython",
    "version": 3
   },
   "file_extension": ".py",
   "mimetype": "text/x-python",
   "name": "python",
   "nbconvert_exporter": "python",
   "pygments_lexer": "ipython3",
   "version": "3.11.4"
  },
  "vscode": {
   "interpreter": {
    "hash": "aee8b7b246df8f9039afb4144a1f6fd8d2ca17a180786b69acc140d282b71a49"
   }
  }
 },
 "nbformat": 4,
 "nbformat_minor": 5
}
